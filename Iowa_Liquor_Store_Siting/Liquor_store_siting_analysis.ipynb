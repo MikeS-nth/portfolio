{
 "cells": [
  {
   "cell_type": "markdown",
   "metadata": {},
   "source": [
    "\n",
    "# Identifying Possible Locations for a New Liquor Store in Iowa\n",
    "\n",
    "## Executive Summary\n",
    "Hawkeye Liquor Mart (*note: fake company name*) is considering opening a new liquor store in Iowa.  As a first step, this analysis is meant to help identify geographic areas that merit more intensive market research and scouting. This executive summary provides a high-level synopsis of the approach, findings, limitations, and recommended next steps.\n",
    "\n",
    "## Approach\n",
    "This analysis works primarily with a dataset obtained from the Iowa Alcoholic Beverages Division, which contains transaction records of liquor sales to retailers holding Class E Liquor licenses.\n",
    "\n",
    "The primary analytical approach was to assess Iowa counties to identify where there is evidence that:\n",
    "- Existing stores perform well\n",
    "- The market is not saturated\n",
    "- The population is relatively affluent\n",
    "\n",
    "Through standard analysis techniques and incorporating basic population and economic data, this analysis derived a \"Opportunity Score\" metric which assigns a numerical score based on the three factors above.\n",
    "\n",
    "## Findings\n",
    "There are 15 counties (out of 99) that are in the top 75% percentile as measured by the Opportunity Score, and are recommended for further analysis.\n",
    "\n",
    "Further, we can use basic linear regression to identify potential revenue levels that a new store might achieve in a given county (where we have sufficient data).  For example, among the top counties on the list, the baseline projected revenue is:\n",
    "- Kossuth County: USD 204,000\n",
    "- Polk County: USD 356,000\n",
    "- Plymouth County: USD 129,000\n",
    "\n",
    "## Limitations\n",
    "It is important to note that the dataset does not include retail pricing (cost to consumer), only cost per unit to the liquor retailers.  Therefore, we should think of data labeled as \"sales\" or \"revenue\" as cost of goods sold (COGS).  While this does not allow us to calculate actual revenue or profit, it is a reasonable starting point to understand the market.\n",
    "\n",
    "## Recommended Next Steps\n",
    "This data and the resulting county list is intended to provide a starting point for deeper research into each county.  I recommend evaluating and understanding the list and prioritizing and/or pairing it down as needed.  In particular, I recommend researching actual retail pricing, and other margin-impacting measures (overhead, inventory turnover, etc.).\n"
   ]
  },
  {
   "cell_type": "markdown",
   "metadata": {},
   "source": [
    "# Data Analysis and Code"
   ]
  },
  {
   "cell_type": "markdown",
   "metadata": {},
   "source": [
    "## Data Cleaning and EDA"
   ]
  },
  {
   "cell_type": "code",
   "execution_count": 1,
   "metadata": {
    "collapsed": true
   },
   "outputs": [],
   "source": [
    "import numpy as np\n",
    "import pandas as pd\n",
    "import matplotlib.pyplot as plt\n",
    "import seaborn as sns\n",
    "%matplotlib inline\n",
    "pd.set_option('display.float_format', lambda x: '%.3f' % x)"
   ]
  },
  {
   "cell_type": "code",
   "execution_count": 2,
   "metadata": {},
   "outputs": [
    {
     "data": {
      "text/html": [
       "<div>\n",
       "<table border=\"1\" class=\"dataframe\">\n",
       "  <thead>\n",
       "    <tr style=\"text-align: right;\">\n",
       "      <th></th>\n",
       "      <th>Date</th>\n",
       "      <th>Store Number</th>\n",
       "      <th>City</th>\n",
       "      <th>Zip Code</th>\n",
       "      <th>County Number</th>\n",
       "      <th>County</th>\n",
       "      <th>Category</th>\n",
       "      <th>Category Name</th>\n",
       "      <th>Vendor Number</th>\n",
       "      <th>Item Number</th>\n",
       "      <th>Item Description</th>\n",
       "      <th>Bottle Volume (ml)</th>\n",
       "      <th>State Bottle Cost</th>\n",
       "      <th>State Bottle Retail</th>\n",
       "      <th>Bottles Sold</th>\n",
       "      <th>Sale (Dollars)</th>\n",
       "      <th>Volume Sold (Liters)</th>\n",
       "      <th>Volume Sold (Gallons)</th>\n",
       "    </tr>\n",
       "  </thead>\n",
       "  <tbody>\n",
       "    <tr>\n",
       "      <th>0</th>\n",
       "      <td>03/31/2016</td>\n",
       "      <td>5029</td>\n",
       "      <td>DAVENPORT</td>\n",
       "      <td>52806</td>\n",
       "      <td>82.000</td>\n",
       "      <td>Scott</td>\n",
       "      <td>1022100.000</td>\n",
       "      <td>TEQUILA</td>\n",
       "      <td>370</td>\n",
       "      <td>87152</td>\n",
       "      <td>Avion Silver</td>\n",
       "      <td>375</td>\n",
       "      <td>$9.99</td>\n",
       "      <td>$14.99</td>\n",
       "      <td>12</td>\n",
       "      <td>$179.88</td>\n",
       "      <td>4.500</td>\n",
       "      <td>1.190</td>\n",
       "    </tr>\n",
       "    <tr>\n",
       "      <th>1</th>\n",
       "      <td>03/31/2016</td>\n",
       "      <td>5029</td>\n",
       "      <td>DAVENPORT</td>\n",
       "      <td>52806</td>\n",
       "      <td>82.000</td>\n",
       "      <td>Scott</td>\n",
       "      <td>1022100.000</td>\n",
       "      <td>TEQUILA</td>\n",
       "      <td>395</td>\n",
       "      <td>89197</td>\n",
       "      <td>Jose Cuervo Especial Reposado Tequila</td>\n",
       "      <td>1000</td>\n",
       "      <td>$12.50</td>\n",
       "      <td>$18.75</td>\n",
       "      <td>2</td>\n",
       "      <td>$37.50</td>\n",
       "      <td>2.000</td>\n",
       "      <td>0.530</td>\n",
       "    </tr>\n",
       "    <tr>\n",
       "      <th>2</th>\n",
       "      <td>03/31/2016</td>\n",
       "      <td>4959</td>\n",
       "      <td>CEDAR FALLS</td>\n",
       "      <td>50613</td>\n",
       "      <td>7.000</td>\n",
       "      <td>Black Hawk</td>\n",
       "      <td>1071100.000</td>\n",
       "      <td>AMERICAN COCKTAILS</td>\n",
       "      <td>380</td>\n",
       "      <td>63959</td>\n",
       "      <td>Uv Blue Raspberry Lemonade Pet</td>\n",
       "      <td>1750</td>\n",
       "      <td>$5.97</td>\n",
       "      <td>$8.96</td>\n",
       "      <td>6</td>\n",
       "      <td>$53.76</td>\n",
       "      <td>10.500</td>\n",
       "      <td>2.770</td>\n",
       "    </tr>\n",
       "    <tr>\n",
       "      <th>3</th>\n",
       "      <td>03/31/2016</td>\n",
       "      <td>2190</td>\n",
       "      <td>DES MOINES</td>\n",
       "      <td>50314</td>\n",
       "      <td>77.000</td>\n",
       "      <td>Polk</td>\n",
       "      <td>1031200.000</td>\n",
       "      <td>VODKA FLAVORED</td>\n",
       "      <td>205</td>\n",
       "      <td>40597</td>\n",
       "      <td>New Amsterdam Red Berry</td>\n",
       "      <td>200</td>\n",
       "      <td>$2.24</td>\n",
       "      <td>$3.36</td>\n",
       "      <td>48</td>\n",
       "      <td>$161.28</td>\n",
       "      <td>9.600</td>\n",
       "      <td>2.540</td>\n",
       "    </tr>\n",
       "    <tr>\n",
       "      <th>4</th>\n",
       "      <td>03/31/2016</td>\n",
       "      <td>5240</td>\n",
       "      <td>WEST BRANCH</td>\n",
       "      <td>52358</td>\n",
       "      <td>nan</td>\n",
       "      <td>NaN</td>\n",
       "      <td>1081200.000</td>\n",
       "      <td>CREAM LIQUEURS</td>\n",
       "      <td>305</td>\n",
       "      <td>73055</td>\n",
       "      <td>Rumchata</td>\n",
       "      <td>750</td>\n",
       "      <td>$12.50</td>\n",
       "      <td>$18.75</td>\n",
       "      <td>6</td>\n",
       "      <td>$112.50</td>\n",
       "      <td>4.500</td>\n",
       "      <td>1.190</td>\n",
       "    </tr>\n",
       "  </tbody>\n",
       "</table>\n",
       "</div>"
      ],
      "text/plain": [
       "         Date  Store Number         City Zip Code  County Number      County  \\\n",
       "0  03/31/2016          5029    DAVENPORT    52806         82.000       Scott   \n",
       "1  03/31/2016          5029    DAVENPORT    52806         82.000       Scott   \n",
       "2  03/31/2016          4959  CEDAR FALLS    50613          7.000  Black Hawk   \n",
       "3  03/31/2016          2190   DES MOINES    50314         77.000        Polk   \n",
       "4  03/31/2016          5240  WEST BRANCH    52358            nan         NaN   \n",
       "\n",
       "     Category       Category Name  Vendor Number  Item Number  \\\n",
       "0 1022100.000             TEQUILA            370        87152   \n",
       "1 1022100.000             TEQUILA            395        89197   \n",
       "2 1071100.000  AMERICAN COCKTAILS            380        63959   \n",
       "3 1031200.000      VODKA FLAVORED            205        40597   \n",
       "4 1081200.000      CREAM LIQUEURS            305        73055   \n",
       "\n",
       "                        Item Description  Bottle Volume (ml)  \\\n",
       "0                           Avion Silver                 375   \n",
       "1  Jose Cuervo Especial Reposado Tequila                1000   \n",
       "2         Uv Blue Raspberry Lemonade Pet                1750   \n",
       "3                New Amsterdam Red Berry                 200   \n",
       "4                               Rumchata                 750   \n",
       "\n",
       "  State Bottle Cost State Bottle Retail  Bottles Sold Sale (Dollars)  \\\n",
       "0             $9.99              $14.99            12        $179.88   \n",
       "1            $12.50              $18.75             2         $37.50   \n",
       "2             $5.97               $8.96             6         $53.76   \n",
       "3             $2.24               $3.36            48        $161.28   \n",
       "4            $12.50              $18.75             6        $112.50   \n",
       "\n",
       "   Volume Sold (Liters)  Volume Sold (Gallons)  \n",
       "0                 4.500                  1.190  \n",
       "1                 2.000                  0.530  \n",
       "2                10.500                  2.770  \n",
       "3                 9.600                  2.540  \n",
       "4                 4.500                  1.190  "
      ]
     },
     "execution_count": 2,
     "metadata": {},
     "output_type": "execute_result"
    }
   ],
   "source": [
    "# Note: this file is large (>377 MB), which is why I have not made it available on Github.  If you are interested in \n",
    "# reproducing this, you can access the same data from the Iowa Alcoholic Beverages Division's website (https://abd.iowa.gov/)\n",
    "# I may consider hosting this specific file if enough people express interest.\n",
    "rawdata = pd.read_csv(\"../../datasets/Project2/Iowa_Liquor_Sales_reduced__FULL_SET.csv\", header=0, low_memory=False)\n",
    "rawdata.head()"
   ]
  },
  {
   "cell_type": "code",
   "execution_count": 3,
   "metadata": {},
   "outputs": [
    {
     "data": {
      "text/plain": [
       "Index([u'Date', u'Store_Number', u'City', u'Zip_Code', u'County_Number',\n",
       "       u'County', u'Category', u'Category_Name', u'Vendor_Number',\n",
       "       u'Item_Number', u'Item_Description', u'Bottle_Volume_ml',\n",
       "       u'State_Bottle_Cost', u'State_Bottle_Retail', u'Bottles_Sold',\n",
       "       u'Sale_Dollars', u'Volume_Sold_Liters', u'Volume_Sold_Gallons'],\n",
       "      dtype='object')"
      ]
     },
     "execution_count": 3,
     "metadata": {},
     "output_type": "execute_result"
    }
   ],
   "source": [
    "# Replacing whitespace and special chars so that I don't have to use brackets & quotes every time I need to reference a column.\n",
    "\n",
    "rawdata.columns = [c.replace(' ', '_') for c in rawdata.columns]\n",
    "rawdata.columns = [c.replace('(', '') for c in rawdata.columns]\n",
    "rawdata.columns = [c.replace(')', '') for c in rawdata.columns]\n",
    "rawdata.columns"
   ]
  },
  {
   "cell_type": "code",
   "execution_count": 4,
   "metadata": {},
   "outputs": [
    {
     "data": {
      "text/plain": [
       "(2709552, 18)"
      ]
     },
     "execution_count": 4,
     "metadata": {},
     "output_type": "execute_result"
    }
   ],
   "source": [
    "rawdata.shape"
   ]
  },
  {
   "cell_type": "code",
   "execution_count": 5,
   "metadata": {},
   "outputs": [
    {
     "data": {
      "text/plain": [
       "Date                       0\n",
       "Store_Number               0\n",
       "City                       0\n",
       "Zip_Code                   0\n",
       "County_Number          10913\n",
       "County                 10913\n",
       "Category                 779\n",
       "Category_Name           6109\n",
       "Vendor_Number              0\n",
       "Item_Number                0\n",
       "Item_Description           0\n",
       "Bottle_Volume_ml           0\n",
       "State_Bottle_Cost          0\n",
       "State_Bottle_Retail        0\n",
       "Bottles_Sold               0\n",
       "Sale_Dollars               0\n",
       "Volume_Sold_Liters         0\n",
       "Volume_Sold_Gallons        0\n",
       "dtype: int64"
      ]
     },
     "execution_count": 5,
     "metadata": {},
     "output_type": "execute_result"
    }
   ],
   "source": [
    "rawdata.isnull().sum()"
   ]
  },
  {
   "cell_type": "markdown",
   "metadata": {},
   "source": [
    "There are missing values in County_Number, County, Category, Category_Name.  I really only care about County and Category_Name."
   ]
  },
  {
   "cell_type": "code",
   "execution_count": 6,
   "metadata": {},
   "outputs": [
    {
     "data": {
      "text/plain": [
       "Date                    object\n",
       "Store_Number             int64\n",
       "City                    object\n",
       "Zip_Code                object\n",
       "County_Number          float64\n",
       "County                  object\n",
       "Category               float64\n",
       "Category_Name           object\n",
       "Vendor_Number            int64\n",
       "Item_Number              int64\n",
       "Item_Description        object\n",
       "Bottle_Volume_ml         int64\n",
       "State_Bottle_Cost       object\n",
       "State_Bottle_Retail     object\n",
       "Bottles_Sold             int64\n",
       "Sale_Dollars            object\n",
       "Volume_Sold_Liters     float64\n",
       "Volume_Sold_Gallons    float64\n",
       "dtype: object"
      ]
     },
     "execution_count": 6,
     "metadata": {},
     "output_type": "execute_result"
    }
   ],
   "source": [
    "rawdata.dtypes"
   ]
  },
  {
   "cell_type": "markdown",
   "metadata": {},
   "source": [
    "Some of these clearly need to be changed--Date should be a date/time format, and all cost oriented variables should be floats."
   ]
  },
  {
   "cell_type": "code",
   "execution_count": 7,
   "metadata": {
    "collapsed": true
   },
   "outputs": [],
   "source": [
    "# Strip out the non-numeric characters in the cost-related variables\n",
    "rawdata.State_Bottle_Cost.replace('[\\$,)]','', regex=True, inplace=True)\n",
    "rawdata.State_Bottle_Retail.replace('[\\$,)]','', regex=True, inplace=True)\n",
    "rawdata.Sale_Dollars.replace('[\\$,)]','', regex=True, inplace=True)\n",
    "\n",
    "# Now convert them to floats\n",
    "rawdata.State_Bottle_Cost = rawdata.State_Bottle_Cost.astype(float, copy=True)   \n",
    "rawdata.State_Bottle_Retail = rawdata.State_Bottle_Retail.astype(float, copy=True) \n",
    "rawdata.Sale_Dollars = rawdata.Sale_Dollars.astype(float, copy=True) "
   ]
  },
  {
   "cell_type": "code",
   "execution_count": 8,
   "metadata": {
    "collapsed": true
   },
   "outputs": [],
   "source": [
    "# Converting Date to datetime\n",
    "rawdata.Date = pd.to_datetime(rawdata.Date)"
   ]
  },
  {
   "cell_type": "code",
   "execution_count": 9,
   "metadata": {
    "collapsed": true
   },
   "outputs": [],
   "source": [
    "# Converting zip codes to floats for now (even though zip codes are categorical, this can \n",
    "# identify data issues)\n",
    "rawdata.Zip_Code = rawdata.Zip_Code.astype(int, copy=True, raise_on_error=False)"
   ]
  },
  {
   "cell_type": "code",
   "execution_count": 10,
   "metadata": {},
   "outputs": [
    {
     "data": {
      "text/plain": [
       "Harrison    1725\n",
       "Name: County, dtype: int64"
      ]
     },
     "execution_count": 10,
     "metadata": {},
     "output_type": "execute_result"
    }
   ],
   "source": [
    "# What county is this value associated with?\n",
    "rawdata[rawdata.Zip_Code == '712-2'].County.value_counts()"
   ]
  },
  {
   "cell_type": "code",
   "execution_count": 11,
   "metadata": {
    "collapsed": true
   },
   "outputs": [],
   "source": [
    "# Assigning Harrison county to the county NaNs where zip code = 712-2\n",
    "rawdata.loc[rawdata.Zip_Code == '712-2', 'County'] = 'Harrison'"
   ]
  },
  {
   "cell_type": "markdown",
   "metadata": {},
   "source": [
    "What cities are associated with Harrison and 712-2?"
   ]
  },
  {
   "cell_type": "code",
   "execution_count": 12,
   "metadata": {
    "scrolled": true
   },
   "outputs": [
    {
     "data": {
      "text/plain": [
       "DUNLAP    2000\n",
       "Name: City, dtype: int64"
      ]
     },
     "execution_count": 12,
     "metadata": {},
     "output_type": "execute_result"
    }
   ],
   "source": [
    "rawdata[(rawdata.County == 'Harrison') & (rawdata.Zip_Code == '712-2')].City.value_counts()"
   ]
  },
  {
   "cell_type": "markdown",
   "metadata": {},
   "source": [
    "All of them are Dunlap, IA. What zip code is Dunlap?"
   ]
  },
  {
   "cell_type": "code",
   "execution_count": 13,
   "metadata": {
    "scrolled": true
   },
   "outputs": [
    {
     "data": {
      "text/plain": [
       "712-2    2000\n",
       "Name: Zip_Code, dtype: int64"
      ]
     },
     "execution_count": 13,
     "metadata": {},
     "output_type": "execute_result"
    }
   ],
   "source": [
    "rawdata[rawdata.City == 'DUNLAP'].Zip_Code.value_counts()"
   ]
  },
  {
   "cell_type": "markdown",
   "metadata": {},
   "source": [
    "All are 712-2, the error value.  Need a correct source to fix this.  I found a listing of all Iowa zip codes and corresponding counties and cities [here](http://www.zipcodestogo.com/Iowa/).  I copied the data into a csv file."
   ]
  },
  {
   "cell_type": "code",
   "execution_count": 14,
   "metadata": {
    "collapsed": true
   },
   "outputs": [],
   "source": [
    "# Manually scraped from website and saved to CSV. Source: http://www.zipcodestogo.com/Iowa/\n",
    "iowa_zips = pd.read_csv(\"../../datasets/Project2/Iowa_zips_list.csv\", header=0)\n",
    "# Renaming columns to avoid duplication with column names in the rawdata, for merging purposes.\n",
    "iowa_zips.rename(columns={'Zip Code':'zip_code_ref', 'County':'county_ref'}, inplace=True)"
   ]
  },
  {
   "cell_type": "code",
   "execution_count": 15,
   "metadata": {},
   "outputs": [
    {
     "data": {
      "text/plain": [
       "zip_code_ref     int64\n",
       "City            object\n",
       "county_ref      object\n",
       "dtype: object"
      ]
     },
     "execution_count": 15,
     "metadata": {},
     "output_type": "execute_result"
    }
   ],
   "source": [
    "iowa_zips.dtypes"
   ]
  },
  {
   "cell_type": "code",
   "execution_count": 16,
   "metadata": {},
   "outputs": [
    {
     "name": "stdout",
     "output_type": "stream",
     "text": [
      "Dunlap zip code is: 651    51529\n",
      "Name: zip_code_ref, dtype: int64\n"
     ]
    }
   ],
   "source": [
    "# Looking up zip code for Dunlap.  I don't know text format, so passing all caps and title caps.\n",
    "print \"Dunlap zip code is: \" + str(iowa_zips[(iowa_zips.City == 'DUNLAP') | (iowa_zips.City == \"Dunlap\")].zip_code_ref )"
   ]
  },
  {
   "cell_type": "code",
   "execution_count": 17,
   "metadata": {},
   "outputs": [
    {
     "data": {
      "text/plain": [
       "51529    2000\n",
       "Name: Zip_Code, dtype: int64"
      ]
     },
     "execution_count": 17,
     "metadata": {},
     "output_type": "execute_result"
    }
   ],
   "source": [
    "# Assigning correct zip code to Dunlap in the rawdata table\n",
    "rawdata.loc[rawdata.City == 'DUNLAP', 'Zip_Code'] = '51529'\n",
    "# Confirming change\n",
    "rawdata[rawdata.City == 'DUNLAP'].Zip_Code.value_counts()"
   ]
  },
  {
   "cell_type": "code",
   "execution_count": 18,
   "metadata": {
    "collapsed": true
   },
   "outputs": [],
   "source": [
    "# Converting all zips to integers\n",
    "rawdata.Zip_Code = rawdata.Zip_Code.astype(int)"
   ]
  },
  {
   "cell_type": "markdown",
   "metadata": {},
   "source": [
    "Now to fix the missing county values.  The iowa_zips df can also help with that."
   ]
  },
  {
   "cell_type": "code",
   "execution_count": 19,
   "metadata": {
    "collapsed": true
   },
   "outputs": [],
   "source": [
    "# Merging rawdata and iowa_zips on their respective zip code columns.\n",
    "dataset = pd.merge(rawdata, iowa_zips[['zip_code_ref', 'county_ref']], left_on='Zip_Code', right_on='zip_code_ref')\n"
   ]
  },
  {
   "cell_type": "code",
   "execution_count": 20,
   "metadata": {},
   "outputs": [
    {
     "data": {
      "text/html": [
       "<div>\n",
       "<table border=\"1\" class=\"dataframe\">\n",
       "  <thead>\n",
       "    <tr style=\"text-align: right;\">\n",
       "      <th></th>\n",
       "      <th>Date</th>\n",
       "      <th>Store_Number</th>\n",
       "      <th>City</th>\n",
       "      <th>Zip_Code</th>\n",
       "      <th>County_Number</th>\n",
       "      <th>County</th>\n",
       "      <th>Category</th>\n",
       "      <th>Category_Name</th>\n",
       "      <th>Vendor_Number</th>\n",
       "      <th>Item_Number</th>\n",
       "      <th>Item_Description</th>\n",
       "      <th>Bottle_Volume_ml</th>\n",
       "      <th>State_Bottle_Cost</th>\n",
       "      <th>State_Bottle_Retail</th>\n",
       "      <th>Bottles_Sold</th>\n",
       "      <th>Sale_Dollars</th>\n",
       "      <th>Volume_Sold_Liters</th>\n",
       "      <th>Volume_Sold_Gallons</th>\n",
       "      <th>zip_code_ref</th>\n",
       "      <th>county_ref</th>\n",
       "    </tr>\n",
       "  </thead>\n",
       "  <tbody>\n",
       "    <tr>\n",
       "      <th>0</th>\n",
       "      <td>2016-03-31</td>\n",
       "      <td>5029</td>\n",
       "      <td>DAVENPORT</td>\n",
       "      <td>52806</td>\n",
       "      <td>82.000</td>\n",
       "      <td>Scott</td>\n",
       "      <td>1022100.000</td>\n",
       "      <td>TEQUILA</td>\n",
       "      <td>370</td>\n",
       "      <td>87152</td>\n",
       "      <td>Avion Silver</td>\n",
       "      <td>375</td>\n",
       "      <td>9.990</td>\n",
       "      <td>14.990</td>\n",
       "      <td>12</td>\n",
       "      <td>179.880</td>\n",
       "      <td>4.500</td>\n",
       "      <td>1.190</td>\n",
       "      <td>52806</td>\n",
       "      <td>Scott</td>\n",
       "    </tr>\n",
       "    <tr>\n",
       "      <th>1</th>\n",
       "      <td>2016-03-31</td>\n",
       "      <td>5029</td>\n",
       "      <td>DAVENPORT</td>\n",
       "      <td>52806</td>\n",
       "      <td>82.000</td>\n",
       "      <td>Scott</td>\n",
       "      <td>1022100.000</td>\n",
       "      <td>TEQUILA</td>\n",
       "      <td>395</td>\n",
       "      <td>89197</td>\n",
       "      <td>Jose Cuervo Especial Reposado Tequila</td>\n",
       "      <td>1000</td>\n",
       "      <td>12.500</td>\n",
       "      <td>18.750</td>\n",
       "      <td>2</td>\n",
       "      <td>37.500</td>\n",
       "      <td>2.000</td>\n",
       "      <td>0.530</td>\n",
       "      <td>52806</td>\n",
       "      <td>Scott</td>\n",
       "    </tr>\n",
       "    <tr>\n",
       "      <th>2</th>\n",
       "      <td>2016-03-31</td>\n",
       "      <td>5029</td>\n",
       "      <td>DAVENPORT</td>\n",
       "      <td>52806</td>\n",
       "      <td>82.000</td>\n",
       "      <td>Scott</td>\n",
       "      <td>1022100.000</td>\n",
       "      <td>TEQUILA</td>\n",
       "      <td>410</td>\n",
       "      <td>88294</td>\n",
       "      <td>Patron Silver Tequila</td>\n",
       "      <td>375</td>\n",
       "      <td>14.000</td>\n",
       "      <td>21.000</td>\n",
       "      <td>12</td>\n",
       "      <td>252.000</td>\n",
       "      <td>4.500</td>\n",
       "      <td>1.190</td>\n",
       "      <td>52806</td>\n",
       "      <td>Scott</td>\n",
       "    </tr>\n",
       "    <tr>\n",
       "      <th>3</th>\n",
       "      <td>2016-03-31</td>\n",
       "      <td>5029</td>\n",
       "      <td>DAVENPORT</td>\n",
       "      <td>52806</td>\n",
       "      <td>82.000</td>\n",
       "      <td>Scott</td>\n",
       "      <td>1052010.000</td>\n",
       "      <td>IMPORTED GRAPE BRANDIES</td>\n",
       "      <td>389</td>\n",
       "      <td>49185</td>\n",
       "      <td>Remy Martin Vsop (flask)</td>\n",
       "      <td>375</td>\n",
       "      <td>10.660</td>\n",
       "      <td>15.990</td>\n",
       "      <td>12</td>\n",
       "      <td>191.880</td>\n",
       "      <td>4.500</td>\n",
       "      <td>1.190</td>\n",
       "      <td>52806</td>\n",
       "      <td>Scott</td>\n",
       "    </tr>\n",
       "    <tr>\n",
       "      <th>4</th>\n",
       "      <td>2016-03-31</td>\n",
       "      <td>5029</td>\n",
       "      <td>DAVENPORT</td>\n",
       "      <td>52806</td>\n",
       "      <td>82.000</td>\n",
       "      <td>Scott</td>\n",
       "      <td>1022100.000</td>\n",
       "      <td>TEQUILA</td>\n",
       "      <td>410</td>\n",
       "      <td>88296</td>\n",
       "      <td>Patron Tequila Silver</td>\n",
       "      <td>750</td>\n",
       "      <td>27.000</td>\n",
       "      <td>40.500</td>\n",
       "      <td>12</td>\n",
       "      <td>486.000</td>\n",
       "      <td>9.000</td>\n",
       "      <td>2.380</td>\n",
       "      <td>52806</td>\n",
       "      <td>Scott</td>\n",
       "    </tr>\n",
       "  </tbody>\n",
       "</table>\n",
       "</div>"
      ],
      "text/plain": [
       "        Date  Store_Number       City  Zip_Code  County_Number County  \\\n",
       "0 2016-03-31          5029  DAVENPORT     52806         82.000  Scott   \n",
       "1 2016-03-31          5029  DAVENPORT     52806         82.000  Scott   \n",
       "2 2016-03-31          5029  DAVENPORT     52806         82.000  Scott   \n",
       "3 2016-03-31          5029  DAVENPORT     52806         82.000  Scott   \n",
       "4 2016-03-31          5029  DAVENPORT     52806         82.000  Scott   \n",
       "\n",
       "     Category            Category_Name  Vendor_Number  Item_Number  \\\n",
       "0 1022100.000                  TEQUILA            370        87152   \n",
       "1 1022100.000                  TEQUILA            395        89197   \n",
       "2 1022100.000                  TEQUILA            410        88294   \n",
       "3 1052010.000  IMPORTED GRAPE BRANDIES            389        49185   \n",
       "4 1022100.000                  TEQUILA            410        88296   \n",
       "\n",
       "                        Item_Description  Bottle_Volume_ml  State_Bottle_Cost  \\\n",
       "0                           Avion Silver               375              9.990   \n",
       "1  Jose Cuervo Especial Reposado Tequila              1000             12.500   \n",
       "2                  Patron Silver Tequila               375             14.000   \n",
       "3               Remy Martin Vsop (flask)               375             10.660   \n",
       "4                  Patron Tequila Silver               750             27.000   \n",
       "\n",
       "   State_Bottle_Retail  Bottles_Sold  Sale_Dollars  Volume_Sold_Liters  \\\n",
       "0               14.990            12       179.880               4.500   \n",
       "1               18.750             2        37.500               2.000   \n",
       "2               21.000            12       252.000               4.500   \n",
       "3               15.990            12       191.880               4.500   \n",
       "4               40.500            12       486.000               9.000   \n",
       "\n",
       "   Volume_Sold_Gallons  zip_code_ref county_ref  \n",
       "0                1.190         52806      Scott  \n",
       "1                0.530         52806      Scott  \n",
       "2                1.190         52806      Scott  \n",
       "3                1.190         52806      Scott  \n",
       "4                2.380         52806      Scott  "
      ]
     },
     "execution_count": 20,
     "metadata": {},
     "output_type": "execute_result"
    }
   ],
   "source": [
    "dataset.head()"
   ]
  },
  {
   "cell_type": "code",
   "execution_count": 21,
   "metadata": {
    "collapsed": true
   },
   "outputs": [],
   "source": [
    "# county_ref replaces County.\n",
    "dataset.drop('County', axis=1, inplace=True)\n",
    "dataset.rename(columns={'county_ref': 'County'}, inplace=True)"
   ]
  },
  {
   "cell_type": "markdown",
   "metadata": {},
   "source": [
    "I want to add a few more date-oriented columns to the master dataset, in case it proves useful."
   ]
  },
  {
   "cell_type": "code",
   "execution_count": 22,
   "metadata": {
    "collapsed": true
   },
   "outputs": [],
   "source": [
    "dataset['Quarter'] = dataset.Date.dt.quarter\n",
    "dataset['Year'] = dataset.Date.dt.year\n",
    "dataset['Month'] = dataset.Date.dt.month\n",
    "dataset['Year_Quarter'] = dataset.Year.astype(str) + '-Q' + dataset.Quarter.astype(str)"
   ]
  },
  {
   "cell_type": "markdown",
   "metadata": {},
   "source": [
    "### Exploring Summary Stats & Distributions"
   ]
  },
  {
   "cell_type": "code",
   "execution_count": 23,
   "metadata": {},
   "outputs": [
    {
     "data": {
      "text/html": [
       "<div>\n",
       "<table border=\"1\" class=\"dataframe\">\n",
       "  <thead>\n",
       "    <tr style=\"text-align: right;\">\n",
       "      <th></th>\n",
       "      <th>Store_Number</th>\n",
       "      <th>Zip_Code</th>\n",
       "      <th>County_Number</th>\n",
       "      <th>Category</th>\n",
       "      <th>Vendor_Number</th>\n",
       "      <th>Item_Number</th>\n",
       "      <th>Bottle_Volume_ml</th>\n",
       "      <th>State_Bottle_Cost</th>\n",
       "      <th>State_Bottle_Retail</th>\n",
       "      <th>Bottles_Sold</th>\n",
       "      <th>Sale_Dollars</th>\n",
       "      <th>Volume_Sold_Liters</th>\n",
       "      <th>Volume_Sold_Gallons</th>\n",
       "      <th>zip_code_ref</th>\n",
       "      <th>Quarter</th>\n",
       "      <th>Year</th>\n",
       "      <th>Month</th>\n",
       "    </tr>\n",
       "  </thead>\n",
       "  <tbody>\n",
       "    <tr>\n",
       "      <th>count</th>\n",
       "      <td>2695123.000</td>\n",
       "      <td>2695123.000</td>\n",
       "      <td>2684210.000</td>\n",
       "      <td>2694349.000</td>\n",
       "      <td>2695123.000</td>\n",
       "      <td>2695123.000</td>\n",
       "      <td>2695123.000</td>\n",
       "      <td>2695123.000</td>\n",
       "      <td>2695123.000</td>\n",
       "      <td>2695123.000</td>\n",
       "      <td>2695123.000</td>\n",
       "      <td>2695123.000</td>\n",
       "      <td>2695123.000</td>\n",
       "      <td>2695123.000</td>\n",
       "      <td>2695123.000</td>\n",
       "      <td>2695123.000</td>\n",
       "      <td>2695123.000</td>\n",
       "    </tr>\n",
       "    <tr>\n",
       "      <th>mean</th>\n",
       "      <td>3584.177</td>\n",
       "      <td>51258.332</td>\n",
       "      <td>57.253</td>\n",
       "      <td>1043845.577</td>\n",
       "      <td>256.410</td>\n",
       "      <td>46023.501</td>\n",
       "      <td>925.280</td>\n",
       "      <td>9.823</td>\n",
       "      <td>14.750</td>\n",
       "      <td>9.841</td>\n",
       "      <td>129.300</td>\n",
       "      <td>8.937</td>\n",
       "      <td>2.361</td>\n",
       "      <td>51258.332</td>\n",
       "      <td>2.255</td>\n",
       "      <td>2015.194</td>\n",
       "      <td>5.819</td>\n",
       "    </tr>\n",
       "    <tr>\n",
       "      <th>std</th>\n",
       "      <td>947.805</td>\n",
       "      <td>987.564</td>\n",
       "      <td>27.351</td>\n",
       "      <td>50110.180</td>\n",
       "      <td>140.919</td>\n",
       "      <td>53201.525</td>\n",
       "      <td>546.595</td>\n",
       "      <td>14.938</td>\n",
       "      <td>22.407</td>\n",
       "      <td>23.546</td>\n",
       "      <td>400.420</td>\n",
       "      <td>28.309</td>\n",
       "      <td>7.478</td>\n",
       "      <td>987.564</td>\n",
       "      <td>1.172</td>\n",
       "      <td>0.395</td>\n",
       "      <td>3.620</td>\n",
       "    </tr>\n",
       "    <tr>\n",
       "      <th>min</th>\n",
       "      <td>2106.000</td>\n",
       "      <td>50002.000</td>\n",
       "      <td>1.000</td>\n",
       "      <td>1011100.000</td>\n",
       "      <td>10.000</td>\n",
       "      <td>146.000</td>\n",
       "      <td>0.000</td>\n",
       "      <td>0.890</td>\n",
       "      <td>1.340</td>\n",
       "      <td>1.000</td>\n",
       "      <td>1.340</td>\n",
       "      <td>0.000</td>\n",
       "      <td>0.000</td>\n",
       "      <td>50002.000</td>\n",
       "      <td>1.000</td>\n",
       "      <td>2015.000</td>\n",
       "      <td>1.000</td>\n",
       "    </tr>\n",
       "    <tr>\n",
       "      <th>25%</th>\n",
       "      <td>2603.000</td>\n",
       "      <td>50315.000</td>\n",
       "      <td>31.000</td>\n",
       "      <td>1012200.000</td>\n",
       "      <td>115.000</td>\n",
       "      <td>26827.000</td>\n",
       "      <td>750.000</td>\n",
       "      <td>5.510</td>\n",
       "      <td>8.270</td>\n",
       "      <td>2.000</td>\n",
       "      <td>30.540</td>\n",
       "      <td>1.500</td>\n",
       "      <td>0.400</td>\n",
       "      <td>50315.000</td>\n",
       "      <td>1.000</td>\n",
       "      <td>2015.000</td>\n",
       "      <td>3.000</td>\n",
       "    </tr>\n",
       "    <tr>\n",
       "      <th>50%</th>\n",
       "      <td>3715.000</td>\n",
       "      <td>51054.000</td>\n",
       "      <td>62.000</td>\n",
       "      <td>1031200.000</td>\n",
       "      <td>260.000</td>\n",
       "      <td>38176.000</td>\n",
       "      <td>750.000</td>\n",
       "      <td>8.090</td>\n",
       "      <td>12.300</td>\n",
       "      <td>6.000</td>\n",
       "      <td>70.560</td>\n",
       "      <td>5.250</td>\n",
       "      <td>1.390</td>\n",
       "      <td>51054.000</td>\n",
       "      <td>2.000</td>\n",
       "      <td>2015.000</td>\n",
       "      <td>5.000</td>\n",
       "    </tr>\n",
       "    <tr>\n",
       "      <th>75%</th>\n",
       "      <td>4374.000</td>\n",
       "      <td>52310.000</td>\n",
       "      <td>77.000</td>\n",
       "      <td>1062310.000</td>\n",
       "      <td>380.000</td>\n",
       "      <td>64601.000</td>\n",
       "      <td>1000.000</td>\n",
       "      <td>11.960</td>\n",
       "      <td>17.940</td>\n",
       "      <td>12.000</td>\n",
       "      <td>135.000</td>\n",
       "      <td>10.500</td>\n",
       "      <td>2.770</td>\n",
       "      <td>52310.000</td>\n",
       "      <td>3.000</td>\n",
       "      <td>2015.000</td>\n",
       "      <td>9.000</td>\n",
       "    </tr>\n",
       "    <tr>\n",
       "      <th>max</th>\n",
       "      <td>9023.000</td>\n",
       "      <td>52807.000</td>\n",
       "      <td>99.000</td>\n",
       "      <td>1701100.000</td>\n",
       "      <td>978.000</td>\n",
       "      <td>999275.000</td>\n",
       "      <td>225000.000</td>\n",
       "      <td>6468.000</td>\n",
       "      <td>9702.000</td>\n",
       "      <td>3960.000</td>\n",
       "      <td>106326.000</td>\n",
       "      <td>3960.000</td>\n",
       "      <td>1046.120</td>\n",
       "      <td>52807.000</td>\n",
       "      <td>4.000</td>\n",
       "      <td>2016.000</td>\n",
       "      <td>12.000</td>\n",
       "    </tr>\n",
       "  </tbody>\n",
       "</table>\n",
       "</div>"
      ],
      "text/plain": [
       "       Store_Number    Zip_Code  County_Number    Category  Vendor_Number  \\\n",
       "count   2695123.000 2695123.000    2684210.000 2694349.000    2695123.000   \n",
       "mean       3584.177   51258.332         57.253 1043845.577        256.410   \n",
       "std         947.805     987.564         27.351   50110.180        140.919   \n",
       "min        2106.000   50002.000          1.000 1011100.000         10.000   \n",
       "25%        2603.000   50315.000         31.000 1012200.000        115.000   \n",
       "50%        3715.000   51054.000         62.000 1031200.000        260.000   \n",
       "75%        4374.000   52310.000         77.000 1062310.000        380.000   \n",
       "max        9023.000   52807.000         99.000 1701100.000        978.000   \n",
       "\n",
       "       Item_Number  Bottle_Volume_ml  State_Bottle_Cost  State_Bottle_Retail  \\\n",
       "count  2695123.000       2695123.000        2695123.000          2695123.000   \n",
       "mean     46023.501           925.280              9.823               14.750   \n",
       "std      53201.525           546.595             14.938               22.407   \n",
       "min        146.000             0.000              0.890                1.340   \n",
       "25%      26827.000           750.000              5.510                8.270   \n",
       "50%      38176.000           750.000              8.090               12.300   \n",
       "75%      64601.000          1000.000             11.960               17.940   \n",
       "max     999275.000        225000.000           6468.000             9702.000   \n",
       "\n",
       "       Bottles_Sold  Sale_Dollars  Volume_Sold_Liters  Volume_Sold_Gallons  \\\n",
       "count   2695123.000   2695123.000         2695123.000          2695123.000   \n",
       "mean          9.841       129.300               8.937                2.361   \n",
       "std          23.546       400.420              28.309                7.478   \n",
       "min           1.000         1.340               0.000                0.000   \n",
       "25%           2.000        30.540               1.500                0.400   \n",
       "50%           6.000        70.560               5.250                1.390   \n",
       "75%          12.000       135.000              10.500                2.770   \n",
       "max        3960.000    106326.000            3960.000             1046.120   \n",
       "\n",
       "       zip_code_ref     Quarter        Year       Month  \n",
       "count   2695123.000 2695123.000 2695123.000 2695123.000  \n",
       "mean      51258.332       2.255    2015.194       5.819  \n",
       "std         987.564       1.172       0.395       3.620  \n",
       "min       50002.000       1.000    2015.000       1.000  \n",
       "25%       50315.000       1.000    2015.000       3.000  \n",
       "50%       51054.000       2.000    2015.000       5.000  \n",
       "75%       52310.000       3.000    2015.000       9.000  \n",
       "max       52807.000       4.000    2016.000      12.000  "
      ]
     },
     "execution_count": 23,
     "metadata": {},
     "output_type": "execute_result"
    }
   ],
   "source": [
    "dataset.describe()"
   ]
  },
  {
   "cell_type": "code",
   "execution_count": 25,
   "metadata": {},
   "outputs": [
    {
     "data": {
      "text/plain": [
       "<seaborn.axisgrid.PairGrid at 0x10eb17f10>"
      ]
     },
     "execution_count": 25,
     "metadata": {},
     "output_type": "execute_result"
    },
    {
     "data": {
      "image/png": "[encoded data removed]",
      "text/plain": [
       "<matplotlib.figure.Figure at 0x10eb178d0>"
      ]
     },
     "metadata": {},
     "output_type": "display_data"
    }
   ],
   "source": [
    "sns.pairplot(dataset, vars=['State_Bottle_Retail', 'Bottles_Sold', 'Sale_Dollars', 'Volume_Sold_Gallons', 'Quarter'])"
   ]
  },
  {
   "cell_type": "markdown",
   "metadata": {},
   "source": [
    "A lot of pretty obvious linear relationships here, like gallons of alcohol sold vs sales (or bottles).  Interestingly, the plots by quarter suggest there might be some seasonality in Q2 and Q4."
   ]
  },
  {
   "cell_type": "code",
   "execution_count": 26,
   "metadata": {},
   "outputs": [
    {
     "data": {
      "text/plain": [
       "<matplotlib.axes._subplots.AxesSubplot at 0x10f648210>"
      ]
     },
     "execution_count": 26,
     "metadata": {},
     "output_type": "execute_result"
    },
    {
     "data": {
      "image/png": "[encoded data removed]",
      "text/plain": [
       "<matplotlib.figure.Figure at 0x10f4c1690>"
      ]
     },
     "metadata": {},
     "output_type": "display_data"
    }
   ],
   "source": [
    "sns.distplot(dataset.Bottles_Sold)\n",
    "# VERY skewed"
   ]
  },
  {
   "cell_type": "markdown",
   "metadata": {},
   "source": [
    "## Data Transformation\n",
    "Because the master dataset is at the transaction level, I need to make some summary tables in order to be able to start to analyze which counties might be the right places to consider."
   ]
  },
  {
   "cell_type": "markdown",
   "metadata": {},
   "source": [
    "### Store-Level Stats"
   ]
  },
  {
   "cell_type": "code",
   "execution_count": 24,
   "metadata": {
    "collapsed": true
   },
   "outputs": [],
   "source": [
    "# Creating a rollup view of store performance on key measures.\n",
    "store_summary = dataset.pivot_table(index='Store_Number', values=['Bottles_Sold', 'Sale_Dollars','Volume_Sold_Gallons'], aggfunc=np.sum)"
   ]
  },
  {
   "cell_type": "code",
   "execution_count": 25,
   "metadata": {
    "scrolled": true
   },
   "outputs": [
    {
     "data": {
      "text/plain": [
       "<matplotlib.axes._subplots.AxesSubplot at 0x114d0ec90>"
      ]
     },
     "execution_count": 25,
     "metadata": {},
     "output_type": "execute_result"
    },
    {
     "data": {
      "image/png": "[encoded data removed]",
      "text/plain": [
       "<matplotlib.figure.Figure at 0x114f0c350>"
      ]
     },
     "metadata": {},
     "output_type": "display_data"
    }
   ],
   "source": [
    "sns.distplot(store_summary.Sale_Dollars)"
   ]
  },
  {
   "cell_type": "markdown",
   "metadata": {},
   "source": [
    "The distribution of Sale_Dollars (e.g., what the liquor stores paid to the state) is extremely right skewed.  That said, the bulk of the data does not have any abnormal or jagged shape that might be difficult to interpret."
   ]
  },
  {
   "cell_type": "code",
   "execution_count": 26,
   "metadata": {
    "collapsed": true
   },
   "outputs": [],
   "source": [
    "# Converting the pivot table to a dataframe\n",
    "store_summary_df = pd.DataFrame(store_summary)\n",
    "# Setting the store ID as the index\n",
    "store_summary['Store_ID'] = store_summary.index"
   ]
  },
  {
   "cell_type": "code",
   "execution_count": 30,
   "metadata": {},
   "outputs": [
    {
     "data": {
      "text/plain": [
       "<seaborn.axisgrid.PairGrid at 0x10f896790>"
      ]
     },
     "execution_count": 30,
     "metadata": {},
     "output_type": "execute_result"
    },
    {
     "data": {
      "image/png": "[encoded data removed]",
      "text/plain": [
       "<matplotlib.figure.Figure at 0x10f896e10>"
      ]
     },
     "metadata": {},
     "output_type": "display_data"
    }
   ],
   "source": [
    "sns.pairplot(store_summary)"
   ]
  },
  {
   "cell_type": "markdown",
   "metadata": {},
   "source": [
    "This is not at all surprising.  The pairs that are relevant (store ID should be ignored since it is an arbitrary number), are extremely well correlated.\n",
    "\n",
    "While it's obvious that volume of alcohol sold would be linearly related to dollar amount, it's still important to verify.  In particular, this leads me to believe that there is not a noticable segment of specialty or high-end liquor stores that might sell fewer gallons but at a higher price per gallon."
   ]
  },
  {
   "cell_type": "code",
   "execution_count": 27,
   "metadata": {
    "collapsed": true
   },
   "outputs": [],
   "source": [
    "# Stores list--deduping master dataset by store_number to grab county, city, zip code by store.\n",
    "stores = dataset.copy()\n",
    "stores.drop_duplicates(\"Store_Number\", inplace=True)"
   ]
  },
  {
   "cell_type": "code",
   "execution_count": 28,
   "metadata": {
    "collapsed": true
   },
   "outputs": [],
   "source": [
    "# I only want unique stores for this.\n",
    "stores.drop(['Item_Number', 'Item_Description', 'Bottle_Volume_ml', 'State_Bottle_Cost', 'State_Bottle_Retail', 'Bottles_Sold', 'Sale_Dollars', 'Volume_Sold_Liters', 'Volume_Sold_Gallons', 'Category_Name', 'Quarter', 'Year', 'Month', 'Year_Quarter', 'Date', 'Category'], axis=1, inplace=True)"
   ]
  },
  {
   "cell_type": "code",
   "execution_count": 29,
   "metadata": {
    "collapsed": true
   },
   "outputs": [],
   "source": [
    "# Merging the store-oriented dataframes into one, store performance dataframe\n",
    "stores_performance = pd.merge(stores, store_summary_df, left_on='Store_Number', right_on='Store_ID')"
   ]
  },
  {
   "cell_type": "code",
   "execution_count": 34,
   "metadata": {},
   "outputs": [
    {
     "data": {
      "text/plain": [
       "<matplotlib.axes._subplots.AxesSubplot at 0x137c1ac10>"
      ]
     },
     "execution_count": 34,
     "metadata": {},
     "output_type": "execute_result"
    },
    {
     "data": {
      "image/png": "[encoded data removed]",
      "text/plain": [
       "<matplotlib.figure.Figure at 0x10f598b50>"
      ]
     },
     "metadata": {},
     "output_type": "display_data"
    }
   ],
   "source": [
    "sns.regplot(x='Volume_Sold_Gallons', y='Sale_Dollars', data=stores_performance)"
   ]
  },
  {
   "cell_type": "markdown",
   "metadata": {},
   "source": [
    "This tells me that there's no differentiation in revenue based on selling expensive vs. cheap/regular price alcohol. If that were the case, there would at least be some notable outliers where revenue (Sales_Dollars) was higher as compared to the liquid volume of alcohol sold."
   ]
  },
  {
   "cell_type": "code",
   "execution_count": 30,
   "metadata": {
    "collapsed": true
   },
   "outputs": [],
   "source": [
    "# Adding calculated columns related to store performance\n",
    "stores_performance['Avg_Bottles_Sold'] = stores_performance.Sale_Dollars / stores_performance.Bottles_Sold\n",
    "stores_performance['Avg_Bottle_Size_Gal'] = stores_performance.Volume_Sold_Gallons / stores_performance.Bottles_Sold"
   ]
  },
  {
   "cell_type": "code",
   "execution_count": null,
   "metadata": {
    "collapsed": true
   },
   "outputs": [],
   "source": []
  },
  {
   "cell_type": "markdown",
   "metadata": {},
   "source": [
    "### County-Level Stats"
   ]
  },
  {
   "cell_type": "code",
   "execution_count": 31,
   "metadata": {
    "collapsed": true
   },
   "outputs": [],
   "source": [
    "# Summing up performance by county\n",
    "county_sums = dataset.pivot_table(index='County', values=['Bottles_Sold', 'Sale_Dollars','Volume_Sold_Gallons'], aggfunc=np.sum)\n",
    "county_sums.rename(columns={'Bottles_Sold': 'Total_Bottles_Sold', 'Sale_Dollars': 'Total_Sales', 'Volume_Sold_Gallons': 'Total_Gallons_Sold'},inplace=True)"
   ]
  },
  {
   "cell_type": "code",
   "execution_count": 32,
   "metadata": {
    "collapsed": true
   },
   "outputs": [],
   "source": [
    "# Counting unique number of stores per county\n",
    "stores_per_county = dataset.pivot_table(index='County', values='Store_Number', aggfunc=lambda x: len(x.unique()))\n",
    "stores_per_county = pd.DataFrame(stores_per_county)\n",
    "stores_per_county.rename(columns={'Store_Number': 'Count_of_Stores'}, inplace=True)"
   ]
  },
  {
   "cell_type": "code",
   "execution_count": 33,
   "metadata": {
    "collapsed": true
   },
   "outputs": [],
   "source": [
    "# Calculating median values at the county level\n",
    "county_medians = stores_performance.pivot_table(index='County', values=['Sale_Dollars', 'Bottles_Sold', 'Volume_Sold_Gallons'], aggfunc=np.median)\n",
    "county_medians.rename(columns={'Sale_Dollars' : 'Median_Sales', 'Bottles_Sold': 'Median_Bottles_Sold', 'Volume_Sold_Gallons': 'Median_Gallons_Sold'},inplace=True)"
   ]
  },
  {
   "cell_type": "code",
   "execution_count": 34,
   "metadata": {
    "collapsed": true
   },
   "outputs": [],
   "source": [
    "# Calculating mean values at the county level\n",
    "county_means = stores_performance.pivot_table(index='County', values=['Sale_Dollars', 'Bottles_Sold', 'Volume_Sold_Gallons'], aggfunc=np.mean)\n",
    "county_means.rename(columns={'Sale_Dollars' : 'Mean_Sales', 'Bottles_Sold': 'Mean_Bottles_Sold', 'Volume_Sold_Gallons': 'Mean_Gallons_Sold'},inplace=True)"
   ]
  },
  {
   "cell_type": "code",
   "execution_count": 35,
   "metadata": {
    "collapsed": true
   },
   "outputs": [],
   "source": [
    "# Merging the pivot tables into a master dataframe of county-level stats\n",
    "county_master = pd.merge(stores_per_county, county_sums, left_index=True, right_index=True)\n",
    "county_master = pd.merge(county_master, county_means, left_index=True, right_index=True)\n",
    "county_master = pd.merge(county_master, county_medians, left_index=True, right_index=True)"
   ]
  },
  {
   "cell_type": "code",
   "execution_count": 36,
   "metadata": {
    "collapsed": true
   },
   "outputs": [],
   "source": [
    "# Adding calculated columns at the county level\n",
    "county_master['Avg_Sales_per_Store'] = county_master.Total_Sales / county_master.Count_of_Stores\n",
    "county_master[\"Avg_Price_per_Bottle\"] = county_master.Total_Sales / county_master.Total_Bottles_Sold"
   ]
  },
  {
   "cell_type": "code",
   "execution_count": 37,
   "metadata": {
    "scrolled": true
   },
   "outputs": [
    {
     "data": {
      "text/plain": [
       "<matplotlib.axes._subplots.AxesSubplot at 0x11508ca10>"
      ]
     },
     "execution_count": 37,
     "metadata": {},
     "output_type": "execute_result"
    },
    {
     "data": {
      "image/png": "[encoded data removed]",
      "text/plain": [
       "<matplotlib.figure.Figure at 0x114f40550>"
      ]
     },
     "metadata": {},
     "output_type": "display_data"
    }
   ],
   "source": [
    "sns.distplot(county_master.Avg_Sales_per_Store)"
   ]
  },
  {
   "cell_type": "markdown",
   "metadata": {},
   "source": [
    "This plot is very interesting--it shows the distribution of average sales per store (distribution of means), and it looks very close to a normal distribution.  This is probably the central limit theorem at work.\n",
    "\n",
    "Now, it's helpful to explore the variables to identify any correlations that might be of interest for modeling purposes."
   ]
  },
  {
   "cell_type": "code",
   "execution_count": 38,
   "metadata": {},
   "outputs": [
    {
     "data": {
      "text/plain": [
       "array([[ 1.        ,  0.98999848,  0.98635155,  0.98996605,  0.54600617,\n",
       "         0.53240087,  0.44839641,  0.08582828, -0.01728394, -0.08454499,\n",
       "         0.53240087,  0.09594789],\n",
       "       [ 0.98999848,  1.        ,  0.99855936,  0.9989693 ,  0.56241395,\n",
       "         0.55026813,  0.46909394,  0.12850948,  0.03074696, -0.03409194,\n",
       "         0.55026813,  0.09697773],\n",
       "       [ 0.98635155,  0.99855936,  1.        ,  0.99927445,  0.55324953,\n",
       "         0.54572563,  0.46505384,  0.11969717,  0.02837408, -0.03494363,\n",
       "         0.54572563,  0.11261634],\n",
       "       [ 0.98996605,  0.9989693 ,  0.99927445,  1.        ,  0.56627649,\n",
       "         0.55759603,  0.47840223,  0.12552183,  0.03268836, -0.03191289,\n",
       "         0.55759603,  0.11499437],\n",
       "       [ 0.54600617,  0.56241395,  0.55324953,  0.56627649,  1.        ,\n",
       "         0.99163517,  0.97652045,  0.63384614,  0.54019713,  0.47256971,\n",
       "         0.99163517,  0.36764752],\n",
       "       [ 0.53240087,  0.55026813,  0.54572563,  0.55759603,  0.99163517,\n",
       "         1.        ,  0.98689059,  0.62332686,  0.54978658,  0.48353802,\n",
       "         1.        ,  0.46539987],\n",
       "       [ 0.44839641,  0.46909394,  0.46505384,  0.47840223,  0.97652045,\n",
       "         0.98689059,  1.        ,  0.66066315,  0.60831987,  0.55713816,\n",
       "         0.98689059,  0.48440569],\n",
       "       [ 0.08582828,  0.12850948,  0.11969717,  0.12552183,  0.63384614,\n",
       "         0.62332686,  0.66066315,  1.        ,  0.94453872,  0.9213529 ,\n",
       "         0.62332686,  0.21173297],\n",
       "       [-0.01728394,  0.03074696,  0.02837408,  0.03268836,  0.54019713,\n",
       "         0.54978658,  0.60831987,  0.94453872,  1.        ,  0.98066557,\n",
       "         0.54978658,  0.30403622],\n",
       "       [-0.08454499, -0.03409194, -0.03494363, -0.03191289,  0.47256971,\n",
       "         0.48353802,  0.55713816,  0.9213529 ,  0.98066557,  1.        ,\n",
       "         0.48353802,  0.29387599],\n",
       "       [ 0.53240087,  0.55026813,  0.54572563,  0.55759603,  0.99163517,\n",
       "         1.        ,  0.98689059,  0.62332686,  0.54978658,  0.48353802,\n",
       "         1.        ,  0.46539987],\n",
       "       [ 0.09594789,  0.09697773,  0.11261634,  0.11499437,  0.36764752,\n",
       "         0.46539987,  0.48440569,  0.21173297,  0.30403622,  0.29387599,\n",
       "         0.46539987,  1.        ]])"
      ]
     },
     "execution_count": 38,
     "metadata": {},
     "output_type": "execute_result"
    }
   ],
   "source": [
    "feature_correlation_matrix = np.corrcoef(county_master.T)\n",
    "feature_correlation_matrix"
   ]
  },
  {
   "cell_type": "code",
   "execution_count": 39,
   "metadata": {},
   "outputs": [
    {
     "data": {
      "text/plain": [
       "<matplotlib.axes._subplots.AxesSubplot at 0x115162810>"
      ]
     },
     "execution_count": 39,
     "metadata": {},
     "output_type": "execute_result"
    },
    {
     "data": {
      "image/png": "[encoded data removed]",
      "text/plain": [
       "<matplotlib.figure.Figure at 0x11517f250>"
      ]
     },
     "metadata": {},
     "output_type": "display_data"
    }
   ],
   "source": [
    "import seaborn.linearmodels as sblm\n",
    "sns.heatmap(feature_correlation_matrix, annot=True, xticklabels=True, yticklabels=True)"
   ]
  },
  {
   "cell_type": "code",
   "execution_count": 40,
   "metadata": {},
   "outputs": [
    {
     "data": {
      "text/plain": [
       "<seaborn.axisgrid.PairGrid at 0x1151b8510>"
      ]
     },
     "execution_count": 40,
     "metadata": {},
     "output_type": "execute_result"
    },
    {
     "data": {
      "image/png": "[encoded data removed]",
      "text/plain": [
       "<matplotlib.figure.Figure at 0x1150a1510>"
      ]
     },
     "metadata": {},
     "output_type": "display_data"
    }
   ],
   "source": [
    "sns.pairplot(county_master[['Count_of_Stores', 'Total_Sales', 'Total_Bottles_Sold', 'Total_Gallons_Sold']])"
   ]
  },
  {
   "cell_type": "markdown",
   "metadata": {},
   "source": [
    "Again, the correlation coefficients and the plots are showing exactly the relationships you'd expect (e.g., volume to dollars, etc.).\n",
    "\n",
    "To hopefully make this analysis more meaningful, I want to incorporate county-level population and per-capita income.  Regardless of whether those stats will add or subtract from the existing linear relationships, they are certainly relevant from a business perspective in terms of deciding where to site a store."
   ]
  },
  {
   "cell_type": "code",
   "execution_count": 41,
   "metadata": {
    "collapsed": true
   },
   "outputs": [],
   "source": [
    "# Loading population data. Source: Iowa.gov\n",
    "county_pop = pd.read_csv(\"../../datasets/Project2/Total_County_Population_by_Year.csv\", header=0, na_filter=False)"
   ]
  },
  {
   "cell_type": "code",
   "execution_count": 42,
   "metadata": {
    "collapsed": true
   },
   "outputs": [],
   "source": [
    "# Cleaning the county name column\n",
    "county_pop['County_clean'] = county_pop.County.map(lambda x: x.rstrip(' County'))\n",
    "# Merging into the county dataset\n",
    "county_master = pd.merge(county_master, county_pop[['Population', 'County_clean']], left_index=True, right_on='County_clean')"
   ]
  },
  {
   "cell_type": "code",
   "execution_count": 43,
   "metadata": {
    "collapsed": true
   },
   "outputs": [],
   "source": [
    "# Creating a measure of liquor stores per capita in each county\n",
    "county_master['Stores_per_Capita'] = county_master.Count_of_Stores / county_master.Population"
   ]
  },
  {
   "cell_type": "code",
   "execution_count": 44,
   "metadata": {
    "collapsed": true
   },
   "outputs": [],
   "source": [
    "# Loading mean per-capita income by county.  Source: http://www.icip.iastate.edu/tables/income/per-capita-income\n",
    "income = pd.read_table(\"../../datasets/Project2/Iowa_income_per_county.txt\", header=0, na_filter=False)\n",
    "# The first two entries are all US and all Iowa, so we need to drop these.\n",
    "income.drop([0,1], axis=0, inplace=True)\n",
    "income.rename(columns={\"Area Name\": \"Area_Name\"}, inplace=True)\n"
   ]
  },
  {
   "cell_type": "code",
   "execution_count": 45,
   "metadata": {
    "collapsed": true
   },
   "outputs": [],
   "source": [
    "#Merging the data into the county dataset\n",
    "county_master = pd.merge(county_master, income[['Area_Name', '2013']], left_on='County_clean', right_on='Area_Name')\n",
    "\n",
    "county_master.rename(columns={'2013': 'Mean_Income_per_Capita_2013'}, inplace=True)\n",
    "\n",
    "# Income values are strings; striping the non-numerical characters and converting to floats.\n",
    "county_master.Mean_Income_per_Capita_2013 =  county_master.Mean_Income_per_Capita_2013.str.replace(',', '')\n",
    "county_master.Mean_Income_per_Capita_2013 = county_master.Mean_Income_per_Capita_2013.astype(float, inplace=True)"
   ]
  },
  {
   "cell_type": "markdown",
   "metadata": {},
   "source": [
    "## Pre-Processing"
   ]
  },
  {
   "cell_type": "markdown",
   "metadata": {},
   "source": [
    "There are a number of potentially important numerical columns in the dataset, but they are based on different measurements and categories (e.g., gallons and dollars).  They should be normalized so that they can be compared directly without one variable falsely skewing the results."
   ]
  },
  {
   "cell_type": "code",
   "execution_count": 46,
   "metadata": {
    "collapsed": true
   },
   "outputs": [],
   "source": [
    "# Formula to normalize the data around its standard deviation.\n",
    "def normalizer(column):\n",
    "    normalized_list = []\n",
    "    for i in column:\n",
    "        standardized_numbers = (i - np.mean(column))/np.std(column)\n",
    "        normalized_list.append(standardized_numbers)\n",
    "        normalized_series = np.array(normalized_list)\n",
    "    return normalized_series"
   ]
  },
  {
   "cell_type": "code",
   "execution_count": 47,
   "metadata": {
    "collapsed": true
   },
   "outputs": [],
   "source": [
    "# Calling the normalizer function on key variables\n",
    "Mean_Sales_Norm = normalizer(county_master.loc[:,'Mean_Sales'])\n",
    "Avg_Sales_Store_Norm = normalizer(county_master.loc[:, 'Avg_Sales_per_Store'])\n",
    "Count_of_Stores_Norm = normalizer(county_master.loc[:, 'Count_of_Stores'])\n",
    "income_norm = normalizer(county_master.loc[:, 'Mean_Income_per_Capita_2013'])\n",
    "Stores_per_Capita_Norm = normalizer(county_master.loc[:, 'Stores_per_Capita'])"
   ]
  },
  {
   "cell_type": "code",
   "execution_count": 48,
   "metadata": {
    "collapsed": true
   },
   "outputs": [],
   "source": [
    "# Appending the normalized columns to the dataframe\n",
    "county_master['Count_of_Stores_Norm'] = Count_of_Stores_Norm\n",
    "county_master['Mean_Sales_Norm'] = Mean_Sales_Norm\n",
    "county_master['Avg_Sales_Store_Norm'] = Avg_Sales_Store_Norm\n",
    "county_master['Income_Norm'] = income_norm\n",
    "county_master['Stores_per_Capita_Norm'] = Stores_per_Capita_Norm"
   ]
  },
  {
   "cell_type": "markdown",
   "metadata": {},
   "source": [
    "## Analysis and Modeling\n",
    "\n",
    "### Working with Indirect Measures\n",
    "Perhaps the primary challenge with this analysis is that the dataset is oriented from the perspective of the Iowa Alcoholic Beverage Division.  In other words, it shows explicit data on the state's purchasing liquor and reselling it to licensees (liquor stores).  However, from a commercial perspective, this is only wholesale data.  It does not provide any information on retail prices (i.e., cost to consumers), and therefore we are unable to directly measure:\n",
    "- Store revenue\n",
    "- Product-level margin\n",
    "- Store profits (which would also require other cost information not included)\n",
    "\n",
    "This means that the data labeled with words like \"Sales\" is actually, from our perspective, cost.  Specifically, we can think of it as cost of goods sold, or COGS.  This metric is still useful, and we can use it as a loose proxy for estimating revenue.  However, we must keep in mind that the amount is really cost--we don't know how much markup the stores apply, nor do we know how much excess inventory they hold at any given time.  \n",
    "\n",
    "With those caveats in mind, we can still glean usefull insights from the data to help inform next steps.\n",
    "\n",
    "### The Opportunity Metric\n",
    "The objective of this analysis is to identify counties based on whether they present a good opportunity for opening a new liquor store--in other words, a location where we think we can maximize revenue.  One way to look at it (and a way that is possible with the data we have) is to say, we want to find a location where a) the market is not already saturated; b) existing stores tend to do well; and c) the local population is relatively affluent.\n",
    "\n",
    "THe opportunity metric or opportunity score is a derived number that takes those three things into account, with a basic formula:\n",
    "For each county:\n",
    "- Begin with the normalized average \"sales\" (COGS) per store.  (Again, we are using COGS as a leading indicator of revenue.)\n",
    "- Subtract the stores per capita--through standardization, some of these values are positive and some are negative.  A negative value means a lower score per capita, so subtracting a negative value gives a positive impact on the score (double negative).  Likewise, if a market is more saturated, its stores per capita measure will be a positive value, and we subtract it from the score as a penalty.\n",
    "- Add the normalized mean per-capita income, to boost the score of wealthier counties (who presumably have more disposable income to spend on Hawkeye Soy Schnapps)."
   ]
  },
  {
   "cell_type": "code",
   "execution_count": 49,
   "metadata": {
    "collapsed": true
   },
   "outputs": [],
   "source": [
    "# Calculating the opportunity metric and appending it to the county_master dataframe\n",
    "county_master['Opportunity_Metric'] = county_master.Avg_Sales_Store_Norm - county_master.Stores_per_Capita_Norm + county_master.Income_Norm"
   ]
  },
  {
   "cell_type": "code",
   "execution_count": 50,
   "metadata": {},
   "outputs": [
    {
     "data": {
      "text/html": [
       "<div>\n",
       "<table border=\"1\" class=\"dataframe\">\n",
       "  <thead>\n",
       "    <tr style=\"text-align: right;\">\n",
       "      <th></th>\n",
       "      <th>Count_of_Stores</th>\n",
       "      <th>Total_Bottles_Sold</th>\n",
       "      <th>Total_Sales</th>\n",
       "      <th>Total_Gallons_Sold</th>\n",
       "      <th>Mean_Bottles_Sold</th>\n",
       "      <th>Mean_Sales</th>\n",
       "      <th>Mean_Gallons_Sold</th>\n",
       "      <th>Median_Bottles_Sold</th>\n",
       "      <th>Median_Sales</th>\n",
       "      <th>Median_Gallons_Sold</th>\n",
       "      <th>...</th>\n",
       "      <th>County_clean</th>\n",
       "      <th>Stores_per_Capita</th>\n",
       "      <th>Area_Name</th>\n",
       "      <th>Mean_Income_per_Capita_2013</th>\n",
       "      <th>Count_of_Stores_Norm</th>\n",
       "      <th>Mean_Sales_Norm</th>\n",
       "      <th>Avg_Sales_Store_Norm</th>\n",
       "      <th>Income_Norm</th>\n",
       "      <th>Stores_per_Capita_Norm</th>\n",
       "      <th>Opportunity_Metric</th>\n",
       "    </tr>\n",
       "  </thead>\n",
       "  <tbody>\n",
       "    <tr>\n",
       "      <th>33</th>\n",
       "      <td>6</td>\n",
       "      <td>142614</td>\n",
       "      <td>2004395.970</td>\n",
       "      <td>40376.220</td>\n",
       "      <td>23769.000</td>\n",
       "      <td>334065.995</td>\n",
       "      <td>6729.370</td>\n",
       "      <td>21211.000</td>\n",
       "      <td>303894.735</td>\n",
       "      <td>5935.105</td>\n",
       "      <td>...</td>\n",
       "      <td>Kossuth</td>\n",
       "      <td>0.000</td>\n",
       "      <td>Kossuth</td>\n",
       "      <td>57672.000</td>\n",
       "      <td>-0.263</td>\n",
       "      <td>2.187</td>\n",
       "      <td>2.187</td>\n",
       "      <td>1.678</td>\n",
       "      <td>-0.452</td>\n",
       "      <td>4.317</td>\n",
       "    </tr>\n",
       "    <tr>\n",
       "      <th>48</th>\n",
       "      <td>206</td>\n",
       "      <td>5949672</td>\n",
       "      <td>81917506.010</td>\n",
       "      <td>1369931.540</td>\n",
       "      <td>28881.903</td>\n",
       "      <td>397657.796</td>\n",
       "      <td>6650.153</td>\n",
       "      <td>9044.000</td>\n",
       "      <td>91333.145</td>\n",
       "      <td>1589.680</td>\n",
       "      <td>...</td>\n",
       "      <td>Polk</td>\n",
       "      <td>0.000</td>\n",
       "      <td>Polk</td>\n",
       "      <td>48118.000</td>\n",
       "      <td>6.950</td>\n",
       "      <td>2.994</td>\n",
       "      <td>2.994</td>\n",
       "      <td>0.409</td>\n",
       "      <td>-0.147</td>\n",
       "      <td>3.550</td>\n",
       "    </tr>\n",
       "    <tr>\n",
       "      <th>46</th>\n",
       "      <td>8</td>\n",
       "      <td>134579</td>\n",
       "      <td>1894119.760</td>\n",
       "      <td>37072.240</td>\n",
       "      <td>16822.375</td>\n",
       "      <td>236764.970</td>\n",
       "      <td>4634.030</td>\n",
       "      <td>11349.500</td>\n",
       "      <td>154580.905</td>\n",
       "      <td>3445.550</td>\n",
       "      <td>...</td>\n",
       "      <td>Plymouth</td>\n",
       "      <td>0.000</td>\n",
       "      <td>Plymouth</td>\n",
       "      <td>54841.000</td>\n",
       "      <td>-0.191</td>\n",
       "      <td>0.954</td>\n",
       "      <td>0.954</td>\n",
       "      <td>1.302</td>\n",
       "      <td>-0.949</td>\n",
       "      <td>3.205</td>\n",
       "    </tr>\n",
       "    <tr>\n",
       "      <th>58</th>\n",
       "      <td>5</td>\n",
       "      <td>114224</td>\n",
       "      <td>1578801.730</td>\n",
       "      <td>31907.430</td>\n",
       "      <td>22844.800</td>\n",
       "      <td>315760.346</td>\n",
       "      <td>6381.486</td>\n",
       "      <td>26615.000</td>\n",
       "      <td>352963.080</td>\n",
       "      <td>7333.940</td>\n",
       "      <td>...</td>\n",
       "      <td>Winneshiek</td>\n",
       "      <td>0.000</td>\n",
       "      <td>Winneshiek</td>\n",
       "      <td>42486.000</td>\n",
       "      <td>-0.299</td>\n",
       "      <td>1.955</td>\n",
       "      <td>1.955</td>\n",
       "      <td>-0.339</td>\n",
       "      <td>-1.501</td>\n",
       "      <td>3.118</td>\n",
       "    </tr>\n",
       "    <tr>\n",
       "      <th>1</th>\n",
       "      <td>1</td>\n",
       "      <td>10173</td>\n",
       "      <td>122431.290</td>\n",
       "      <td>2425.930</td>\n",
       "      <td>10173.000</td>\n",
       "      <td>122431.290</td>\n",
       "      <td>2425.930</td>\n",
       "      <td>10173.000</td>\n",
       "      <td>122431.290</td>\n",
       "      <td>2425.930</td>\n",
       "      <td>...</td>\n",
       "      <td>Adams</td>\n",
       "      <td>0.000</td>\n",
       "      <td>Adams</td>\n",
       "      <td>62055.000</td>\n",
       "      <td>-0.443</td>\n",
       "      <td>-0.496</td>\n",
       "      <td>-0.496</td>\n",
       "      <td>2.260</td>\n",
       "      <td>-1.352</td>\n",
       "      <td>3.116</td>\n",
       "    </tr>\n",
       "    <tr>\n",
       "      <th>16</th>\n",
       "      <td>18</td>\n",
       "      <td>250158</td>\n",
       "      <td>3374618.270</td>\n",
       "      <td>61033.620</td>\n",
       "      <td>13897.667</td>\n",
       "      <td>187478.793</td>\n",
       "      <td>3390.757</td>\n",
       "      <td>5074.500</td>\n",
       "      <td>56284.265</td>\n",
       "      <td>1097.525</td>\n",
       "      <td>...</td>\n",
       "      <td>Dallas</td>\n",
       "      <td>0.000</td>\n",
       "      <td>Dallas</td>\n",
       "      <td>48813.000</td>\n",
       "      <td>0.170</td>\n",
       "      <td>0.329</td>\n",
       "      <td>0.329</td>\n",
       "      <td>0.501</td>\n",
       "      <td>-1.616</td>\n",
       "      <td>2.446</td>\n",
       "    </tr>\n",
       "    <tr>\n",
       "      <th>53</th>\n",
       "      <td>9</td>\n",
       "      <td>123365</td>\n",
       "      <td>1834620.950</td>\n",
       "      <td>36425.130</td>\n",
       "      <td>13707.222</td>\n",
       "      <td>203846.772</td>\n",
       "      <td>4047.237</td>\n",
       "      <td>11863.000</td>\n",
       "      <td>152651.970</td>\n",
       "      <td>3279.950</td>\n",
       "      <td>...</td>\n",
       "      <td>Sioux</td>\n",
       "      <td>0.000</td>\n",
       "      <td>Sioux</td>\n",
       "      <td>48603.000</td>\n",
       "      <td>-0.154</td>\n",
       "      <td>0.537</td>\n",
       "      <td>0.537</td>\n",
       "      <td>0.473</td>\n",
       "      <td>-1.391</td>\n",
       "      <td>2.401</td>\n",
       "    </tr>\n",
       "    <tr>\n",
       "      <th>15</th>\n",
       "      <td>6</td>\n",
       "      <td>108825</td>\n",
       "      <td>1546616.330</td>\n",
       "      <td>30635.940</td>\n",
       "      <td>18137.500</td>\n",
       "      <td>257769.388</td>\n",
       "      <td>5105.990</td>\n",
       "      <td>7492.500</td>\n",
       "      <td>110241.695</td>\n",
       "      <td>2372.190</td>\n",
       "      <td>...</td>\n",
       "      <td>Crawford</td>\n",
       "      <td>0.000</td>\n",
       "      <td>Crawford</td>\n",
       "      <td>47899.000</td>\n",
       "      <td>-0.263</td>\n",
       "      <td>1.220</td>\n",
       "      <td>1.220</td>\n",
       "      <td>0.380</td>\n",
       "      <td>-0.756</td>\n",
       "      <td>2.356</td>\n",
       "    </tr>\n",
       "    <tr>\n",
       "      <th>44</th>\n",
       "      <td>2</td>\n",
       "      <td>23603</td>\n",
       "      <td>315369.900</td>\n",
       "      <td>6564.280</td>\n",
       "      <td>11801.500</td>\n",
       "      <td>157684.950</td>\n",
       "      <td>3282.140</td>\n",
       "      <td>11801.500</td>\n",
       "      <td>157684.950</td>\n",
       "      <td>3282.140</td>\n",
       "      <td>...</td>\n",
       "      <td>Osceola</td>\n",
       "      <td>0.000</td>\n",
       "      <td>Osceola</td>\n",
       "      <td>54204.000</td>\n",
       "      <td>-0.407</td>\n",
       "      <td>-0.049</td>\n",
       "      <td>-0.049</td>\n",
       "      <td>1.217</td>\n",
       "      <td>-0.933</td>\n",
       "      <td>2.101</td>\n",
       "    </tr>\n",
       "    <tr>\n",
       "      <th>40</th>\n",
       "      <td>4</td>\n",
       "      <td>40129</td>\n",
       "      <td>512250.220</td>\n",
       "      <td>11441.990</td>\n",
       "      <td>10032.250</td>\n",
       "      <td>128062.555</td>\n",
       "      <td>2860.498</td>\n",
       "      <td>10920.500</td>\n",
       "      <td>155817.785</td>\n",
       "      <td>3193.200</td>\n",
       "      <td>...</td>\n",
       "      <td>Mitchell</td>\n",
       "      <td>0.000</td>\n",
       "      <td>Mitchell</td>\n",
       "      <td>56861.000</td>\n",
       "      <td>-0.335</td>\n",
       "      <td>-0.424</td>\n",
       "      <td>-0.424</td>\n",
       "      <td>1.570</td>\n",
       "      <td>-0.632</td>\n",
       "      <td>1.777</td>\n",
       "    </tr>\n",
       "  </tbody>\n",
       "</table>\n",
       "<p>10 rows × 23 columns</p>\n",
       "</div>"
      ],
      "text/plain": [
       "    Count_of_Stores  Total_Bottles_Sold  Total_Sales  Total_Gallons_Sold  \\\n",
       "33                6              142614  2004395.970           40376.220   \n",
       "48              206             5949672 81917506.010         1369931.540   \n",
       "46                8              134579  1894119.760           37072.240   \n",
       "58                5              114224  1578801.730           31907.430   \n",
       "1                 1               10173   122431.290            2425.930   \n",
       "16               18              250158  3374618.270           61033.620   \n",
       "53                9              123365  1834620.950           36425.130   \n",
       "15                6              108825  1546616.330           30635.940   \n",
       "44                2               23603   315369.900            6564.280   \n",
       "40                4               40129   512250.220           11441.990   \n",
       "\n",
       "    Mean_Bottles_Sold  Mean_Sales  Mean_Gallons_Sold  Median_Bottles_Sold  \\\n",
       "33          23769.000  334065.995           6729.370            21211.000   \n",
       "48          28881.903  397657.796           6650.153             9044.000   \n",
       "46          16822.375  236764.970           4634.030            11349.500   \n",
       "58          22844.800  315760.346           6381.486            26615.000   \n",
       "1           10173.000  122431.290           2425.930            10173.000   \n",
       "16          13897.667  187478.793           3390.757             5074.500   \n",
       "53          13707.222  203846.772           4047.237            11863.000   \n",
       "15          18137.500  257769.388           5105.990             7492.500   \n",
       "44          11801.500  157684.950           3282.140            11801.500   \n",
       "40          10032.250  128062.555           2860.498            10920.500   \n",
       "\n",
       "    Median_Sales  Median_Gallons_Sold         ...          County_clean  \\\n",
       "33    303894.735             5935.105         ...               Kossuth   \n",
       "48     91333.145             1589.680         ...                  Polk   \n",
       "46    154580.905             3445.550         ...              Plymouth   \n",
       "58    352963.080             7333.940         ...            Winneshiek   \n",
       "1     122431.290             2425.930         ...                 Adams   \n",
       "16     56284.265             1097.525         ...                Dallas   \n",
       "53    152651.970             3279.950         ...                 Sioux   \n",
       "15    110241.695             2372.190         ...              Crawford   \n",
       "44    157684.950             3282.140         ...               Osceola   \n",
       "40    155817.785             3193.200         ...              Mitchell   \n",
       "\n",
       "    Stores_per_Capita   Area_Name Mean_Income_per_Capita_2013  \\\n",
       "33              0.000     Kossuth                   57672.000   \n",
       "48              0.000        Polk                   48118.000   \n",
       "46              0.000    Plymouth                   54841.000   \n",
       "58              0.000  Winneshiek                   42486.000   \n",
       "1               0.000       Adams                   62055.000   \n",
       "16              0.000      Dallas                   48813.000   \n",
       "53              0.000       Sioux                   48603.000   \n",
       "15              0.000    Crawford                   47899.000   \n",
       "44              0.000     Osceola                   54204.000   \n",
       "40              0.000    Mitchell                   56861.000   \n",
       "\n",
       "    Count_of_Stores_Norm Mean_Sales_Norm  Avg_Sales_Store_Norm  Income_Norm  \\\n",
       "33                -0.263           2.187                 2.187        1.678   \n",
       "48                 6.950           2.994                 2.994        0.409   \n",
       "46                -0.191           0.954                 0.954        1.302   \n",
       "58                -0.299           1.955                 1.955       -0.339   \n",
       "1                 -0.443          -0.496                -0.496        2.260   \n",
       "16                 0.170           0.329                 0.329        0.501   \n",
       "53                -0.154           0.537                 0.537        0.473   \n",
       "15                -0.263           1.220                 1.220        0.380   \n",
       "44                -0.407          -0.049                -0.049        1.217   \n",
       "40                -0.335          -0.424                -0.424        1.570   \n",
       "\n",
       "    Stores_per_Capita_Norm  Opportunity_Metric  \n",
       "33                  -0.452               4.317  \n",
       "48                  -0.147               3.550  \n",
       "46                  -0.949               3.205  \n",
       "58                  -1.501               3.118  \n",
       "1                   -1.352               3.116  \n",
       "16                  -1.616               2.446  \n",
       "53                  -1.391               2.401  \n",
       "15                  -0.756               2.356  \n",
       "44                  -0.933               2.101  \n",
       "40                  -0.632               1.777  \n",
       "\n",
       "[10 rows x 23 columns]"
      ]
     },
     "execution_count": 50,
     "metadata": {},
     "output_type": "execute_result"
    }
   ],
   "source": [
    "county_master.sort_values(by='Opportunity_Metric', ascending=False).head(10)"
   ]
  },
  {
   "cell_type": "code",
   "execution_count": 51,
   "metadata": {},
   "outputs": [
    {
     "data": {
      "text/plain": [
       "count   60.000\n",
       "mean    -0.000\n",
       "std      1.860\n",
       "min     -4.460\n",
       "25%     -1.190\n",
       "50%      0.034\n",
       "75%      1.029\n",
       "max      4.317\n",
       "Name: Opportunity_Metric, dtype: float64"
      ]
     },
     "execution_count": 51,
     "metadata": {},
     "output_type": "execute_result"
    }
   ],
   "source": [
    "county_master.Opportunity_Metric.describe()"
   ]
  },
  {
   "cell_type": "code",
   "execution_count": 52,
   "metadata": {},
   "outputs": [
    {
     "data": {
      "text/plain": [
       "<matplotlib.axes._subplots.AxesSubplot at 0x117bb7090>"
      ]
     },
     "execution_count": 52,
     "metadata": {},
     "output_type": "execute_result"
    },
    {
     "data": {
      "image/png": "[encoded data removed]",
      "text/plain": [
       "<matplotlib.figure.Figure at 0x116304690>"
      ]
     },
     "metadata": {},
     "output_type": "display_data"
    }
   ],
   "source": [
    "sns.distplot(county_master.Opportunity_Metric)"
   ]
  },
  {
   "cell_type": "markdown",
   "metadata": {},
   "source": [
    "Based on the opportunity metric values, it seems prudent to make a value of >=10 the cutoff for considering counties (that may even be too many to investigate)."
   ]
  },
  {
   "cell_type": "code",
   "execution_count": 53,
   "metadata": {
    "collapsed": true
   },
   "outputs": [],
   "source": [
    "# Creating a subset dataframe of just the target counties\n",
    "target_counties  = pd.DataFrame(county_master[county_master.Opportunity_Metric >= 1.0])\n",
    "target_counties.rename(columns={'County_clean':'County'},inplace=True)\n",
    "target_counties.set_index('County', inplace=True)"
   ]
  },
  {
   "cell_type": "code",
   "execution_count": 54,
   "metadata": {
    "collapsed": true
   },
   "outputs": [],
   "source": [
    "# Generating a summary report of counties to investigate, for the client.\n",
    "\n",
    "# Subset the most relevant columns for the audience\n",
    "report_df = pd.DataFrame(target_counties[['Count_of_Stores', 'Mean_Income_per_Capita_2013', 'Avg_Sales_per_Store', 'Population', 'Stores_per_Capita', 'Opportunity_Metric']])\n",
    "# Rename the columns to be more readable\n",
    "report_df.rename(columns={'Count_of_Stores': 'Existing Stores', 'Mean_Income_per_Capita_2013': 'Income per Capita', 'Avg_Sales_per_Store': 'Mean COGS per Store', 'Stores_per_Capita': 'Stores per Capita', 'Opportunity_Metric': 'Opportunity Score'}, inplace=True)"
   ]
  },
  {
   "cell_type": "code",
   "execution_count": 55,
   "metadata": {
    "collapsed": true
   },
   "outputs": [],
   "source": [
    "# Format the numbers to be more readable in the report itself\n",
    "report_df['Income per Capita'] = report_df['Income per Capita'].map(lambda x: '${:,.2f}'.format(x))\n",
    "report_df['Mean COGS per Store'] = report_df['Mean COGS per Store'].map(lambda x: '${:,.2f}'.format(x))\n",
    "report_df['Stores per Capita'] = report_df['Stores per Capita'].round(6)\n",
    "report_df['Opportunity Score'] = report_df['Opportunity Score'].round(2)"
   ]
  },
  {
   "cell_type": "code",
   "execution_count": 56,
   "metadata": {
    "collapsed": true
   },
   "outputs": [],
   "source": [
    "report_df.sort_values(by='Opportunity Score', ascending=False, inplace=True)"
   ]
  },
  {
   "cell_type": "code",
   "execution_count": 57,
   "metadata": {
    "collapsed": true
   },
   "outputs": [],
   "source": [
    "from bokeh.models import ColumnDataSource\n",
    "from bokeh.models.layouts import WidgetBox \n",
    "from bokeh.models.widgets import DataTable, DateFormatter, TableColumn"
   ]
  },
  {
   "cell_type": "code",
   "execution_count": 58,
   "metadata": {
    "collapsed": true
   },
   "outputs": [],
   "source": [
    "from bokeh.charts import reset_output\n",
    "reset_output() #Resets the output settings"
   ]
  },
  {
   "cell_type": "code",
   "execution_count": 59,
   "metadata": {},
   "outputs": [
    {
     "data": {
      "text/html": [
       "\n",
       "    <div class=\"bk-root\">\n",
       "        <a href=\"http://bokeh.pydata.org\" target=\"_blank\" class=\"bk-logo bk-logo-small bk-logo-notebook\"></a>\n",
       "        <span id=\"eb88415c-835c-4b6d-bdec-d1e8f1647c70\">Loading BokehJS ...</span>\n",
       "    </div>"
      ]
     },
     "metadata": {},
     "output_type": "display_data"
    },
    {
     "data": {
      "application/javascript": [
       "\n",
       "(function(global) {\n",
       "  function now() {\n",
       "    return new Date();\n",
       "  }\n",
       "\n",
       "  var force = true;\n",
       "\n",
       "  if (typeof (window._bokeh_onload_callbacks) === \"undefined\" || force === true) {\n",
       "    window._bokeh_onload_callbacks = [];\n",
       "    window._bokeh_is_loading = undefined;\n",
       "  }\n",
       "\n",
       "\n",
       "  \n",
       "  if (typeof (window._bokeh_timeout) === \"undefined\" || force === true) {\n",
       "    window._bokeh_timeout = Date.now() + 5000;\n",
       "    window._bokeh_failed_load = false;\n",
       "  }\n",
       "\n",
       "  var NB_LOAD_WARNING = {'data': {'text/html':\n",
       "     \"<div style='background-color: #fdd'>\\n\"+\n",
       "     \"<p>\\n\"+\n",
       "     \"BokehJS does not appear to have successfully loaded. If loading BokehJS from CDN, this \\n\"+\n",
       "     \"may be due to a slow or bad network connection. Possible fixes:\\n\"+\n",
       "     \"</p>\\n\"+\n",
       "     \"<ul>\\n\"+\n",
       "     \"<li>re-rerun `output_notebook()` to attempt to load from CDN again, or</li>\\n\"+\n",
       "     \"<li>use INLINE resources instead, as so:</li>\\n\"+\n",
       "     \"</ul>\\n\"+\n",
       "     \"<code>\\n\"+\n",
       "     \"from bokeh.resources import INLINE\\n\"+\n",
       "     \"output_notebook(resources=INLINE)\\n\"+\n",
       "     \"</code>\\n\"+\n",
       "     \"</div>\"}};\n",
       "\n",
       "  function display_loaded() {\n",
       "    if (window.Bokeh !== undefined) {\n",
       "      document.getElementById(\"eb88415c-835c-4b6d-bdec-d1e8f1647c70\").textContent = \"BokehJS successfully loaded.\";\n",
       "    } else if (Date.now() < window._bokeh_timeout) {\n",
       "      setTimeout(display_loaded, 100)\n",
       "    }\n",
       "  }\n",
       "\n",
       "  function run_callbacks() {\n",
       "    window._bokeh_onload_callbacks.forEach(function(callback) { callback() });\n",
       "    delete window._bokeh_onload_callbacks\n",
       "    console.info(\"Bokeh: all callbacks have finished\");\n",
       "  }\n",
       "\n",
       "  function load_libs(js_urls, callback) {\n",
       "    window._bokeh_onload_callbacks.push(callback);\n",
       "    if (window._bokeh_is_loading > 0) {\n",
       "      console.log(\"Bokeh: BokehJS is being loaded, scheduling callback at\", now());\n",
       "      return null;\n",
       "    }\n",
       "    if (js_urls == null || js_urls.length === 0) {\n",
       "      run_callbacks();\n",
       "      return null;\n",
       "    }\n",
       "    console.log(\"Bokeh: BokehJS not loaded, scheduling load and callback at\", now());\n",
       "    window._bokeh_is_loading = js_urls.length;\n",
       "    for (var i = 0; i < js_urls.length; i++) {\n",
       "      var url = js_urls[i];\n",
       "      var s = document.createElement('script');\n",
       "      s.src = url;\n",
       "      s.async = false;\n",
       "      s.onreadystatechange = s.onload = function() {\n",
       "        window._bokeh_is_loading--;\n",
       "        if (window._bokeh_is_loading === 0) {\n",
       "          console.log(\"Bokeh: all BokehJS libraries loaded\");\n",
       "          run_callbacks()\n",
       "        }\n",
       "      };\n",
       "      s.onerror = function() {\n",
       "        console.warn(\"failed to load library \" + url);\n",
       "      };\n",
       "      console.log(\"Bokeh: injecting script tag for BokehJS library: \", url);\n",
       "      document.getElementsByTagName(\"head\")[0].appendChild(s);\n",
       "    }\n",
       "  };var element = document.getElementById(\"eb88415c-835c-4b6d-bdec-d1e8f1647c70\");\n",
       "  if (element == null) {\n",
       "    console.log(\"Bokeh: ERROR: autoload.js configured with elementid 'eb88415c-835c-4b6d-bdec-d1e8f1647c70' but no matching script tag was found. \")\n",
       "    return false;\n",
       "  }\n",
       "\n",
       "  var js_urls = [\"https://cdn.pydata.org/bokeh/release/bokeh-0.12.4.min.js\", \"https://cdn.pydata.org/bokeh/release/bokeh-widgets-0.12.4.min.js\"];\n",
       "\n",
       "  var inline_js = [\n",
       "    function(Bokeh) {\n",
       "      Bokeh.set_log_level(\"info\");\n",
       "    },\n",
       "    \n",
       "    function(Bokeh) {\n",
       "      \n",
       "      document.getElementById(\"eb88415c-835c-4b6d-bdec-d1e8f1647c70\").textContent = \"BokehJS is loading...\";\n",
       "    },\n",
       "    function(Bokeh) {\n",
       "      console.log(\"Bokeh: injecting CSS: https://cdn.pydata.org/bokeh/release/bokeh-0.12.4.min.css\");\n",
       "      Bokeh.embed.inject_css(\"https://cdn.pydata.org/bokeh/release/bokeh-0.12.4.min.css\");\n",
       "      console.log(\"Bokeh: injecting CSS: https://cdn.pydata.org/bokeh/release/bokeh-widgets-0.12.4.min.css\");\n",
       "      Bokeh.embed.inject_css(\"https://cdn.pydata.org/bokeh/release/bokeh-widgets-0.12.4.min.css\");\n",
       "    }\n",
       "  ];\n",
       "\n",
       "  function run_inline_js() {\n",
       "    \n",
       "    if ((window.Bokeh !== undefined) || (force === true)) {\n",
       "      for (var i = 0; i < inline_js.length; i++) {\n",
       "        inline_js[i](window.Bokeh);\n",
       "      }if (force === true) {\n",
       "        display_loaded();\n",
       "      }} else if (Date.now() < window._bokeh_timeout) {\n",
       "      setTimeout(run_inline_js, 100);\n",
       "    } else if (!window._bokeh_failed_load) {\n",
       "      console.log(\"Bokeh: BokehJS failed to load within specified timeout.\");\n",
       "      window._bokeh_failed_load = true;\n",
       "    } else if (force !== true) {\n",
       "      var cell = $(document.getElementById(\"eb88415c-835c-4b6d-bdec-d1e8f1647c70\")).parents('.cell').data().cell;\n",
       "      cell.output_area.append_execute_result(NB_LOAD_WARNING)\n",
       "    }\n",
       "\n",
       "  }\n",
       "\n",
       "  if (window._bokeh_is_loading === 0) {\n",
       "    console.log(\"Bokeh: BokehJS loaded, going straight to plotting\");\n",
       "    run_inline_js();\n",
       "  } else {\n",
       "    load_libs(js_urls, function() {\n",
       "      console.log(\"Bokeh: BokehJS plotting callback run at\", now());\n",
       "      run_inline_js();\n",
       "    });\n",
       "  }\n",
       "}(this));"
      ]
     },
     "metadata": {},
     "output_type": "display_data"
    }
   ],
   "source": [
    "from bokeh.io import output_notebook, show\n",
    "output_notebook()"
   ]
  },
  {
   "cell_type": "code",
   "execution_count": 61,
   "metadata": {},
   "outputs": [
    {
     "data": {
      "text/html": [
       "\n",
       "\n",
       "    <div class=\"bk-root\">\n",
       "        <div class=\"bk-plotdiv\" id=\"f9f3978b-aba4-4d53-9925-e0613564dbc2\"></div>\n",
       "    </div>\n",
       "<script type=\"text/javascript\">\n",
       "  \n",
       "  (function(global) {\n",
       "    function now() {\n",
       "      return new Date();\n",
       "    }\n",
       "  \n",
       "    var force = false;\n",
       "  \n",
       "    if (typeof (window._bokeh_onload_callbacks) === \"undefined\" || force === true) {\n",
       "      window._bokeh_onload_callbacks = [];\n",
       "      window._bokeh_is_loading = undefined;\n",
       "    }\n",
       "  \n",
       "  \n",
       "    \n",
       "    if (typeof (window._bokeh_timeout) === \"undefined\" || force === true) {\n",
       "      window._bokeh_timeout = Date.now() + 0;\n",
       "      window._bokeh_failed_load = false;\n",
       "    }\n",
       "  \n",
       "    var NB_LOAD_WARNING = {'data': {'text/html':\n",
       "       \"<div style='background-color: #fdd'>\\n\"+\n",
       "       \"<p>\\n\"+\n",
       "       \"BokehJS does not appear to have successfully loaded. If loading BokehJS from CDN, this \\n\"+\n",
       "       \"may be due to a slow or bad network connection. Possible fixes:\\n\"+\n",
       "       \"</p>\\n\"+\n",
       "       \"<ul>\\n\"+\n",
       "       \"<li>re-rerun `output_notebook()` to attempt to load from CDN again, or</li>\\n\"+\n",
       "       \"<li>use INLINE resources instead, as so:</li>\\n\"+\n",
       "       \"</ul>\\n\"+\n",
       "       \"<code>\\n\"+\n",
       "       \"from bokeh.resources import INLINE\\n\"+\n",
       "       \"output_notebook(resources=INLINE)\\n\"+\n",
       "       \"</code>\\n\"+\n",
       "       \"</div>\"}};\n",
       "  \n",
       "    function display_loaded() {\n",
       "      if (window.Bokeh !== undefined) {\n",
       "        document.getElementById(\"f9f3978b-aba4-4d53-9925-e0613564dbc2\").textContent = \"BokehJS successfully loaded.\";\n",
       "      } else if (Date.now() < window._bokeh_timeout) {\n",
       "        setTimeout(display_loaded, 100)\n",
       "      }\n",
       "    }\n",
       "  \n",
       "    function run_callbacks() {\n",
       "      window._bokeh_onload_callbacks.forEach(function(callback) { callback() });\n",
       "      delete window._bokeh_onload_callbacks\n",
       "      console.info(\"Bokeh: all callbacks have finished\");\n",
       "    }\n",
       "  \n",
       "    function load_libs(js_urls, callback) {\n",
       "      window._bokeh_onload_callbacks.push(callback);\n",
       "      if (window._bokeh_is_loading > 0) {\n",
       "        console.log(\"Bokeh: BokehJS is being loaded, scheduling callback at\", now());\n",
       "        return null;\n",
       "      }\n",
       "      if (js_urls == null || js_urls.length === 0) {\n",
       "        run_callbacks();\n",
       "        return null;\n",
       "      }\n",
       "      console.log(\"Bokeh: BokehJS not loaded, scheduling load and callback at\", now());\n",
       "      window._bokeh_is_loading = js_urls.length;\n",
       "      for (var i = 0; i < js_urls.length; i++) {\n",
       "        var url = js_urls[i];\n",
       "        var s = document.createElement('script');\n",
       "        s.src = url;\n",
       "        s.async = false;\n",
       "        s.onreadystatechange = s.onload = function() {\n",
       "          window._bokeh_is_loading--;\n",
       "          if (window._bokeh_is_loading === 0) {\n",
       "            console.log(\"Bokeh: all BokehJS libraries loaded\");\n",
       "            run_callbacks()\n",
       "          }\n",
       "        };\n",
       "        s.onerror = function() {\n",
       "          console.warn(\"failed to load library \" + url);\n",
       "        };\n",
       "        console.log(\"Bokeh: injecting script tag for BokehJS library: \", url);\n",
       "        document.getElementsByTagName(\"head\")[0].appendChild(s);\n",
       "      }\n",
       "    };var element = document.getElementById(\"f9f3978b-aba4-4d53-9925-e0613564dbc2\");\n",
       "    if (element == null) {\n",
       "      console.log(\"Bokeh: ERROR: autoload.js configured with elementid 'f9f3978b-aba4-4d53-9925-e0613564dbc2' but no matching script tag was found. \")\n",
       "      return false;\n",
       "    }\n",
       "  \n",
       "    var js_urls = [];\n",
       "  \n",
       "    var inline_js = [\n",
       "      function(Bokeh) {\n",
       "        (function() {\n",
       "          var fn = function() {\n",
       "            var docs_json = {\"6239f9cd-9ddc-44ae-999f-bc856a45249d\":{\"roots\":{\"references\":[{\"attributes\":{},\"id\":\"8caca55d-6d78-4d5e-8dc5-531e768bec6e\",\"type\":\"StringEditor\"},{\"attributes\":{},\"id\":\"0c755aa4-c123-40eb-a142-5ddd7dc86688\",\"type\":\"StringFormatter\"},{\"attributes\":{},\"id\":\"1aaa7f20-3ff8-4690-924b-8db0cee51318\",\"type\":\"StringEditor\"},{\"attributes\":{\"editor\":{\"id\":\"374817c5-c6a1-4ede-a374-2c01892cdd16\",\"type\":\"StringEditor\"},\"field\":\"County\",\"formatter\":{\"id\":\"e31e88b9-2510-4b6f-aab7-59d56875bd54\",\"type\":\"StringFormatter\"},\"title\":\"County\"},\"id\":\"ced84e7c-5639-4bcc-9132-1484335070b0\",\"type\":\"TableColumn\"},{\"attributes\":{},\"id\":\"5e3776f6-246b-4eb2-8d79-69427bdce030\",\"type\":\"StringFormatter\"},{\"attributes\":{\"columns\":[{\"id\":\"ced84e7c-5639-4bcc-9132-1484335070b0\",\"type\":\"TableColumn\"},{\"id\":\"b82d43f3-f85f-498e-a3fc-908e6ba7ed0e\",\"type\":\"TableColumn\"},{\"id\":\"ac699fdb-9c09-41d9-9439-f171e701d3b6\",\"type\":\"TableColumn\"},{\"id\":\"8cc69c87-5be8-4096-bea6-860530b4907f\",\"type\":\"TableColumn\"},{\"id\":\"632d22af-80cf-4c13-b41e-b4c46934dcc8\",\"type\":\"TableColumn\"}],\"height\":500,\"source\":{\"id\":\"07753249-c701-4454-bff9-0a7d8a28e249\",\"type\":\"ColumnDataSource\"},\"width\":800},\"id\":\"beb12567-e940-40f4-bb3b-9a87da6a5339\",\"type\":\"DataTable\"},{\"attributes\":{\"editor\":{\"id\":\"5dd10ba2-79fa-460a-ae15-3239706c6a20\",\"type\":\"StringEditor\"},\"field\":\"Stores per Capita\",\"formatter\":{\"id\":\"5e3776f6-246b-4eb2-8d79-69427bdce030\",\"type\":\"StringFormatter\"},\"title\":\"Stores per Capita\"},\"id\":\"8cc69c87-5be8-4096-bea6-860530b4907f\",\"type\":\"TableColumn\"},{\"attributes\":{\"editor\":{\"id\":\"6dd65939-48e4-470c-be24-ce9fd14f97a6\",\"type\":\"StringEditor\"},\"field\":\"Income per Capita\",\"formatter\":{\"id\":\"1467b8ae-e8ce-42ee-8447-afb1acb1a954\",\"type\":\"StringFormatter\"},\"title\":\"Income per Capita\"},\"id\":\"632d22af-80cf-4c13-b41e-b4c46934dcc8\",\"type\":\"TableColumn\"},{\"attributes\":{},\"id\":\"7748af71-4863-4ce7-a5de-589c5f0f68ec\",\"type\":\"StringFormatter\"},{\"attributes\":{},\"id\":\"5dd10ba2-79fa-460a-ae15-3239706c6a20\",\"type\":\"StringEditor\"},{\"attributes\":{},\"id\":\"1467b8ae-e8ce-42ee-8447-afb1acb1a954\",\"type\":\"StringFormatter\"},{\"attributes\":{\"callback\":null,\"column_names\":[\"County\",\"Existing Stores\",\"Stores per Capita\",\"Mean COGS per Store\",\"Income per Capita\",\"Opportunity Score\",\"Population\"],\"data\":{\"County\":[\"Kossuth\",\"Polk\",\"Plymouth\",\"Adams\",\"Winneshiek\",\"Dallas\",\"Sioux\",\"Crawford\",\"Osceola\",\"Mitchell\",\"Bremer\",\"Ida\",\"Jones\",\"Des Moines\",\"Delaware\"],\"Existing Stores\":[6,206,8,1,5,18,9,6,2,4,10,4,5,19,4],\"Income per Capita\":[\"$57,672.00\",\"$48,118.00\",\"$54,841.00\",\"$62,055.00\",\"$42,486.00\",\"$48,813.00\",\"$48,603.00\",\"$47,899.00\",\"$54,204.00\",\"$56,861.00\",\"$45,602.00\",\"$60,438.00\",\"$35,962.00\",\"$48,263.00\",\"$46,900.00\"],\"Mean COGS per Store\":[\"$334,065.99\",\"$397,657.80\",\"$236,764.97\",\"$122,431.29\",\"$315,760.35\",\"$187,478.79\",\"$203,846.77\",\"$257,769.39\",\"$157,684.95\",\"$128,062.56\",\"$253,600.29\",\"$171,146.20\",\"$251,912.76\",\"$245,167.54\",\"$124,370.35\"],\"Opportunity Score\":[4.32,3.55,3.2,3.12,3.12,2.45,2.4,2.36,2.1,1.78,1.63,1.44,1.42,1.41,1.36],\"Population\":[15165,467711,24800,3796,20709,80133,34937,17094,6154,10832,24722,7028,20466,40055,17403],\"Stores per Capita\":[0.000396,0.00044,0.000323,0.000263,0.000241,0.000225,0.000258,0.000351,0.000325,0.000369,0.000404,0.000569,0.000244,0.000474,0.00023]}},\"id\":\"07753249-c701-4454-bff9-0a7d8a28e249\",\"type\":\"ColumnDataSource\"},{\"attributes\":{},\"id\":\"e31e88b9-2510-4b6f-aab7-59d56875bd54\",\"type\":\"StringFormatter\"},{\"attributes\":{\"editor\":{\"id\":\"8caca55d-6d78-4d5e-8dc5-531e768bec6e\",\"type\":\"StringEditor\"},\"field\":\"Mean COGS per Store\",\"formatter\":{\"id\":\"7748af71-4863-4ce7-a5de-589c5f0f68ec\",\"type\":\"StringFormatter\"},\"title\":\"Mean COGS per Store\"},\"id\":\"ac699fdb-9c09-41d9-9439-f171e701d3b6\",\"type\":\"TableColumn\"},{\"attributes\":{\"children\":[{\"id\":\"beb12567-e940-40f4-bb3b-9a87da6a5339\",\"type\":\"DataTable\"}]},\"id\":\"17c91344-78c4-486f-9d16-5d6d95b981aa\",\"type\":\"WidgetBox\"},{\"attributes\":{},\"id\":\"6dd65939-48e4-470c-be24-ce9fd14f97a6\",\"type\":\"StringEditor\"},{\"attributes\":{\"editor\":{\"id\":\"1aaa7f20-3ff8-4690-924b-8db0cee51318\",\"type\":\"StringEditor\"},\"field\":\"Opportunity Score\",\"formatter\":{\"id\":\"0c755aa4-c123-40eb-a142-5ddd7dc86688\",\"type\":\"StringFormatter\"},\"title\":\"Opportunity Score\"},\"id\":\"b82d43f3-f85f-498e-a3fc-908e6ba7ed0e\",\"type\":\"TableColumn\"},{\"attributes\":{},\"id\":\"374817c5-c6a1-4ede-a374-2c01892cdd16\",\"type\":\"StringEditor\"}],\"root_ids\":[\"17c91344-78c4-486f-9d16-5d6d95b981aa\"]},\"title\":\"Bokeh Application\",\"version\":\"0.12.4\"}};\n",
       "            var render_items = [{\"docid\":\"6239f9cd-9ddc-44ae-999f-bc856a45249d\",\"elementid\":\"f9f3978b-aba4-4d53-9925-e0613564dbc2\",\"modelid\":\"17c91344-78c4-486f-9d16-5d6d95b981aa\"}];\n",
       "            \n",
       "            Bokeh.embed.embed_items(docs_json, render_items);\n",
       "          };\n",
       "          if (document.readyState != \"loading\") fn();\n",
       "          else document.addEventListener(\"DOMContentLoaded\", fn);\n",
       "        })();\n",
       "      },\n",
       "      function(Bokeh) {\n",
       "      }\n",
       "    ];\n",
       "  \n",
       "    function run_inline_js() {\n",
       "      \n",
       "      if ((window.Bokeh !== undefined) || (force === true)) {\n",
       "        for (var i = 0; i < inline_js.length; i++) {\n",
       "          inline_js[i](window.Bokeh);\n",
       "        }if (force === true) {\n",
       "          display_loaded();\n",
       "        }} else if (Date.now() < window._bokeh_timeout) {\n",
       "        setTimeout(run_inline_js, 100);\n",
       "      } else if (!window._bokeh_failed_load) {\n",
       "        console.log(\"Bokeh: BokehJS failed to load within specified timeout.\");\n",
       "        window._bokeh_failed_load = true;\n",
       "      } else if (force !== true) {\n",
       "        var cell = $(document.getElementById(\"f9f3978b-aba4-4d53-9925-e0613564dbc2\")).parents('.cell').data().cell;\n",
       "        cell.output_area.append_execute_result(NB_LOAD_WARNING)\n",
       "      }\n",
       "  \n",
       "    }\n",
       "  \n",
       "    if (window._bokeh_is_loading === 0) {\n",
       "      console.log(\"Bokeh: BokehJS loaded, going straight to plotting\");\n",
       "      run_inline_js();\n",
       "    } else {\n",
       "      load_libs(js_urls, function() {\n",
       "        console.log(\"Bokeh: BokehJS plotting callback run at\", now());\n",
       "        run_inline_js();\n",
       "      });\n",
       "    }\n",
       "  }(this));\n",
       "</script>"
      ]
     },
     "metadata": {},
     "output_type": "display_data"
    }
   ],
   "source": [
    "# Creating summary table of top counties to consider for siting, given their Opportunity Score\n",
    "# Using the Bokeh library to generate an interactive table that can be sorted and explored by the user.\n",
    "\n",
    "\n",
    "source = ColumnDataSource(report_df)\n",
    "\n",
    "columns = [\n",
    "        TableColumn(field='County', title='County'),\n",
    "        TableColumn(field='Opportunity Score', title='Opportunity Score'),\n",
    "        TableColumn(field='Mean COGS per Store', title='Mean COGS per Store'),\n",
    "        TableColumn(field='Stores per Capita', title='Stores per Capita'),\n",
    "        TableColumn(field='Income per Capita', title='Income per Capita'),        \n",
    "    ]\n",
    "data_table = DataTable(source=source, columns=columns, width=800, height=500)\n",
    "\n",
    "show(WidgetBox(data_table))"
   ]
  }
 ],
 "metadata": {
  "anaconda-cloud": {},
  "kernelspec": {
   "display_name": "Python 2",
   "language": "python",
   "name": "python2"
  },
  "language_info": {
   "codemirror_mode": {
    "name": "ipython",
    "version": 2
   },
   "file_extension": ".py",
   "mimetype": "text/x-python",
   "name": "python",
   "nbconvert_exporter": "python",
   "pygments_lexer": "ipython2",
   "version": "2.7.13"
  }
 },
 "nbformat": 4,
 "nbformat_minor": 1
}
